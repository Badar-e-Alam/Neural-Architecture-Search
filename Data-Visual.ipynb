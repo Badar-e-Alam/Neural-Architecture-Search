{
 "cells": [
  {
   "cell_type": "markdown",
   "metadata": {},
   "source": [
    "## Data Visualization and Pareto Front Exploration"
   ]
  },
  {
   "cell_type": "code",
   "execution_count": 15,
   "id": "d9bfa354-2f53-462c-b85e-c94249c97755",
   "metadata": {},
   "outputs": [
    {
     "data": {
      "text/html": [
       "<div>\n",
       "<style scoped>\n",
       "    .dataframe tbody tr th:only-of-type {\n",
       "        vertical-align: middle;\n",
       "    }\n",
       "\n",
       "    .dataframe tbody tr th {\n",
       "        vertical-align: top;\n",
       "    }\n",
       "\n",
       "    .dataframe thead th {\n",
       "        text-align: right;\n",
       "    }\n",
       "</style>\n",
       "<table border=\"1\" class=\"dataframe\">\n",
       "  <thead>\n",
       "    <tr style=\"text-align: right;\">\n",
       "      <th></th>\n",
       "      <th>cifar10</th>\n",
       "      <th>cifar100</th>\n",
       "      <th>ImageNet16-120</th>\n",
       "    </tr>\n",
       "  </thead>\n",
       "  <tbody>\n",
       "    <tr>\n",
       "      <th>0</th>\n",
       "      <td>{'fpga_latency': 2.57296, 'accuracy': 85.86333...</td>\n",
       "      <td>NaN</td>\n",
       "      <td>NaN</td>\n",
       "    </tr>\n",
       "    <tr>\n",
       "      <th>3</th>\n",
       "      <td>{'fpga_latency': 1.54256, 'accuracy': 86.61666...</td>\n",
       "      <td>NaN</td>\n",
       "      <td>NaN</td>\n",
       "    </tr>\n",
       "    <tr>\n",
       "      <th>4</th>\n",
       "      <td>{'fpga_latency': 2.16336, 'accuracy': 88.21666...</td>\n",
       "      <td>NaN</td>\n",
       "      <td>NaN</td>\n",
       "    </tr>\n",
       "    <tr>\n",
       "      <th>8</th>\n",
       "      <td>{'fpga_latency': 3.31536, 'accuracy': 92.09666...</td>\n",
       "      <td>NaN</td>\n",
       "      <td>NaN</td>\n",
       "    </tr>\n",
       "    <tr>\n",
       "      <th>9</th>\n",
       "      <td>{'fpga_latency': 2.80016, 'accuracy': 86.44333...</td>\n",
       "      <td>NaN</td>\n",
       "      <td>NaN</td>\n",
       "    </tr>\n",
       "  </tbody>\n",
       "</table>\n",
       "</div>"
      ],
      "text/plain": [
       "                                             cifar10  cifar100  ImageNet16-120\n",
       "0  {'fpga_latency': 2.57296, 'accuracy': 85.86333...       NaN             NaN\n",
       "3  {'fpga_latency': 1.54256, 'accuracy': 86.61666...       NaN             NaN\n",
       "4  {'fpga_latency': 2.16336, 'accuracy': 88.21666...       NaN             NaN\n",
       "8  {'fpga_latency': 3.31536, 'accuracy': 92.09666...       NaN             NaN\n",
       "9  {'fpga_latency': 2.80016, 'accuracy': 86.44333...       NaN             NaN"
      ]
     },
     "execution_count": 15,
     "metadata": {},
     "output_type": "execute_result"
    }
   ],
   "source": [
    "\n",
    "import json\n",
    "import pandas as pd\n",
    "import matplotlib.pyplot as plt\n",
    "file_name=\"metrics.json\"\n",
    "file=open(file_name,\"r\")\n",
    "data=json.load(file)\n",
    "\n",
    "data_frame=pd.DataFrame(data)\n",
    "keys=list(data_frame[\"cifar10\"].keys())\n",
    "data_frame.head()"
   ]
  },
  {
   "cell_type": "code",
   "execution_count": null,
   "id": "a1467d8f",
   "metadata": {},
   "outputs": [],
   "source": []
  },
  {
   "cell_type": "code",
   "execution_count": null,
   "id": "95c68f30",
   "metadata": {},
   "outputs": [],
   "source": []
  },
  {
   "cell_type": "code",
   "execution_count": 16,
   "metadata": {},
   "outputs": [
    {
     "data": {
      "text/plain": [
       "{'dataset': ['cifar10'],\n",
       " 'edgegpu_latency': 0.0001,\n",
       " 'edgegpu_energy': 24.226614330768584,\n",
       " 'raspi4_latency': 10.481976820010459,\n",
       " 'edgetpu_latency': 0.9571811309997429,\n",
       " 'pixel3_latency': 3.6058499999999998,\n",
       " 'eyeriss_latency': 3.645620000000001,\n",
       " 'eyeriss_energy': 0.6872827644999999,\n",
       " 'eyeriss_arithmetic_intensity': 6.289297634665844,\n",
       " 'fpga_latency': 3.72496,\n",
       " 'fpga_energy': 18.01072,\n",
       " 'average_hw_metric': 591005.8676719831,\n",
       " 'train_accuracy': 0.99998,\n",
       " 'train_loss': 0.0,\n",
       " 'validation_accuracy': 0.95,\n",
       " 'validation_loss': 0.0}"
      ]
     },
     "execution_count": 16,
     "metadata": {},
     "output_type": "execute_result"
    }
   ],
   "source": [
    "config=open(\"config.json\",\"r\")\n",
    "json.load(config)"
   ]
  },
  {
   "cell_type": "code",
   "execution_count": 17,
   "metadata": {},
   "outputs": [
    {
     "name": "stdout",
     "output_type": "stream",
     "text": [
      "Original Number of architectures: 15625\n",
      "After configration Number of architectures: 8311\n"
     ]
    }
   ],
   "source": [
    "print(f\"Original Number of architectures: {15625}\\nAfter configration Number of architectures: {len(data_frame)}\")"
   ]
  },
  {
   "cell_type": "code",
   "execution_count": null,
   "metadata": {},
   "outputs": [],
   "source": []
  },
  {
   "cell_type": "code",
   "execution_count": 18,
   "metadata": {},
   "outputs": [],
   "source": [
    "data_name=[\"cifar10\"]\n",
    "cifar10_keys=(data[\"cifar10\"].keys())\n",
    "cifar100_keys=(data[\"cifar100\"].keys())\n",
    "ImageNet_keys=(data[\"ImageNet16-120\"].keys())\n",
    "latency=[]\n",
    "val_accuracy=[]\n",
    "for  dataset in data_name:\n",
    "    for key in data[dataset].keys():\n",
    "        latency.append(data[dataset][key][\"fpga_latency\"])\n",
    "        val_accuracy.append(data[dataset][key][\"accuracy\"])"
   ]
  },
  {
   "cell_type": "code",
   "execution_count": null,
   "metadata": {},
   "outputs": [],
   "source": []
  },
  {
   "cell_type": "code",
   "execution_count": 19,
   "id": "b5bc8337",
   "metadata": {},
   "outputs": [
    {
     "data": {
      "text/plain": [
       "[0.0008,\n",
       " 0.00064,\n",
       " 0.0005120000000000001,\n",
       " 0.0004096000000000001,\n",
       " 0.0003276800000000001,\n",
       " 0.0002621440000000001,\n",
       " 0.00020971520000000012,\n",
       " 0.0001677721600000001,\n",
       " 0.00013421772800000008,\n",
       " 0.00010737418240000007,\n",
       " 8.589934592000007e-05,\n",
       " 6.871947673600006e-05,\n",
       " 5.497558138880005e-05,\n",
       " 4.3980465111040044e-05,\n",
       " 3.5184372088832036e-05]"
      ]
     },
     "execution_count": 19,
     "metadata": {},
     "output_type": "execute_result"
    }
   ],
   "source": [
    "def calculate_lr_decay(lr,decay\n",
    "                       ,epoch):\n",
    "    lr_decay=[]\n",
    "    for i in (epoch):\n",
    "        lr=lr*decay\n",
    "        lr_decay.append(lr)\n",
    "    return lr_decay\n",
    "\n",
    "steps=10,20,30,40,50,60,70,80,90,100,110,120,130,140,150\n",
    "calculate_lr_decay(0.001,0.80,steps)"
   ]
  },
  {
   "cell_type": "code",
   "execution_count": 21,
   "id": "42fa9136",
   "metadata": {},
   "outputs": [
    {
     "data": {
      "text/plain": [
       "(8311, 8311, 8311)"
      ]
     },
     "execution_count": 21,
     "metadata": {},
     "output_type": "execute_result"
    }
   ],
   "source": [
    "len(val_accuracy),len(latency),len(keys)"
   ]
  },
  {
   "cell_type": "code",
   "execution_count": 25,
   "id": "9258161a",
   "metadata": {},
   "outputs": [
    {
     "data": {
      "text/html": [
       "<div>\n",
       "<style scoped>\n",
       "    .dataframe tbody tr th:only-of-type {\n",
       "        vertical-align: middle;\n",
       "    }\n",
       "\n",
       "    .dataframe tbody tr th {\n",
       "        vertical-align: top;\n",
       "    }\n",
       "\n",
       "    .dataframe thead th {\n",
       "        text-align: right;\n",
       "    }\n",
       "</style>\n",
       "<table border=\"1\" class=\"dataframe\">\n",
       "  <thead>\n",
       "    <tr style=\"text-align: right;\">\n",
       "      <th></th>\n",
       "      <th>accuracy</th>\n",
       "      <th>latency</th>\n",
       "    </tr>\n",
       "  </thead>\n",
       "  <tbody>\n",
       "    <tr>\n",
       "      <th>0</th>\n",
       "      <td>85.863333</td>\n",
       "      <td>2.57296</td>\n",
       "    </tr>\n",
       "    <tr>\n",
       "      <th>3</th>\n",
       "      <td>86.616667</td>\n",
       "      <td>1.54256</td>\n",
       "    </tr>\n",
       "    <tr>\n",
       "      <th>4</th>\n",
       "      <td>88.216667</td>\n",
       "      <td>2.16336</td>\n",
       "    </tr>\n",
       "    <tr>\n",
       "      <th>8</th>\n",
       "      <td>92.096667</td>\n",
       "      <td>3.31536</td>\n",
       "    </tr>\n",
       "    <tr>\n",
       "      <th>9</th>\n",
       "      <td>86.443333</td>\n",
       "      <td>2.80016</td>\n",
       "    </tr>\n",
       "  </tbody>\n",
       "</table>\n",
       "</div>"
      ],
      "text/plain": [
       "    accuracy  latency\n",
       "0  85.863333  2.57296\n",
       "3  86.616667  1.54256\n",
       "4  88.216667  2.16336\n",
       "8  92.096667  3.31536\n",
       "9  86.443333  2.80016"
      ]
     },
     "execution_count": 25,
     "metadata": {},
     "output_type": "execute_result"
    }
   ],
   "source": [
    "import pandas as pd\n",
    "\n",
    "\n",
    "df = pd.DataFrame({'accuracy': val_accuracy, 'latency': latency})\n",
    "# Assuming you have a DataFrame called df and a list of integers called index_list\n",
    "keys=[int(key) for key in keys]\n",
    "df.set_index(pd.Index(keys), inplace=True)\n",
    "df.head()"
   ]
  },
  {
   "cell_type": "code",
   "execution_count": 9,
   "id": "4a69cc8b",
   "metadata": {},
   "outputs": [
    {
     "data": {
      "image/png": "[encoded data removed]",
      "text/plain": [
       "<Figure size 640x480 with 1 Axes>"
      ]
     },
     "metadata": {},
     "output_type": "display_data"
    }
   ],
   "source": [
    "df.plot.scatter(x=\"accuracy\", y='latency', color='blue', marker='o', label='Scatter Plot')\n",
    "# Add labels and title\n",
    "plt.xlabel('Speed')\n",
    "plt.ylabel(\"Validation Accuracy\")\n",
    "plt.title('Scatter Plot with Pandas')\n",
    "\n",
    "# Show legend\n",
    "plt.legend()\n",
    "\n",
    "# Show the plot\n",
    "plt.show()"
   ]
  },
  {
   "cell_type": "code",
   "execution_count": null,
   "id": "76c33c37",
   "metadata": {},
   "outputs": [],
   "source": []
  },
  {
   "cell_type": "code",
   "execution_count": 10,
   "metadata": {},
   "outputs": [
    {
     "data": {
      "image/png": "[encoded data removed]",
      "text/plain": [
       "<Figure size 640x480 with 2 Axes>"
      ]
     },
     "metadata": {},
     "output_type": "display_data"
    }
   ],
   "source": [
    "\"\"\"\n",
    "    Histrogram Style pareto front \n",
    "\"\"\"\n",
    "from matplotlib.ticker import PercentFormatter\n",
    "fig, ax = plt.subplots()\n",
    "ax.bar(df.index, df[\"accuracy\"], color=\"C0\")\n",
    "ax2 = ax.twinx()\n",
    "ax2.plot(df.index, df[\"latency\"], color=\"C1\", marker=\"D\", ms=7)\n",
    "ax2.yaxis.set_major_formatter(PercentFormatter())\n",
    "\n",
    "ax.tick_params(axis=\"y\", colors=\"C0\")\n",
    "ax2.tick_params(axis=\"y\", colors=\"C1\")\n",
    "plt.show()"
   ]
  },
  {
   "cell_type": "code",
   "execution_count": 18,
   "metadata": {},
   "outputs": [
    {
     "ename": "IndexError",
     "evalue": "only integers, slices (`:`), ellipsis (`...`), numpy.newaxis (`None`) and integer or boolean arrays are valid indices",
     "output_type": "error",
     "traceback": [
      "\u001b[0;31m---------------------------------------------------------------------------\u001b[0m",
      "\u001b[0;31mIndexError\u001b[0m                                Traceback (most recent call last)",
      "\u001b[1;32m/scratch-local/alam/HW-NAS-Bench/Data-Visual.ipynb Cell 14\u001b[0m line \u001b[0;36m1\n\u001b[0;32m----> <a href='vscode-notebook-cell://ssh-remote%2Bcode57/scratch-local/alam/HW-NAS-Bench/Data-Visual.ipynb#X40sdnNjb2RlLXJlbW90ZQ%3D%3D?line=0'>1</a>\u001b[0m data_frame[\u001b[39m\"\u001b[39;49m\u001b[39mcifar10\u001b[39;49m\u001b[39m\"\u001b[39;49m]\u001b[39m.\u001b[39;49mkeys()[\u001b[39m\"\u001b[39;49m\u001b[39mfpga_latency\u001b[39;49m\u001b[39m\"\u001b[39;49m]\n",
      "File \u001b[0;32m/scratch-local/alam/anaconda/envs/pytorch/lib/python3.10/site-packages/pandas/core/indexes/base.py:5382\u001b[0m, in \u001b[0;36mIndex.__getitem__\u001b[0;34m(self, key)\u001b[0m\n\u001b[1;32m   5379\u001b[0m     \u001b[39melse\u001b[39;00m:\n\u001b[1;32m   5380\u001b[0m         key \u001b[39m=\u001b[39m np\u001b[39m.\u001b[39masarray(key, dtype\u001b[39m=\u001b[39m\u001b[39mbool\u001b[39m)\n\u001b[0;32m-> 5382\u001b[0m result \u001b[39m=\u001b[39m getitem(key)\n\u001b[1;32m   5383\u001b[0m \u001b[39m# Because we ruled out integer above, we always get an arraylike here\u001b[39;00m\n\u001b[1;32m   5384\u001b[0m \u001b[39mif\u001b[39;00m result\u001b[39m.\u001b[39mndim \u001b[39m>\u001b[39m \u001b[39m1\u001b[39m:\n",
      "\u001b[0;31mIndexError\u001b[0m: only integers, slices (`:`), ellipsis (`...`), numpy.newaxis (`None`) and integer or boolean arrays are valid indices"
     ]
    }
   ],
   "source": []
  },
  {
   "cell_type": "code",
   "execution_count": 27,
   "id": "f2ed389f",
   "metadata": {},
   "outputs": [
    {
     "name": "stdout",
     "output_type": "stream",
     "text": [
      "Highest point on both axis(3960     2.16336\n",
      "4384     1.13296\n",
      "4659     2.90576\n",
      "8720     1.64816\n",
      "10431    1.54256\n",
      "11472    3.64816\n",
      "13611    2.39056\n",
      "13987    3.42096\n",
      "14346    2.05776\n",
      "Name: latency, dtype: float64, 3960     90.830000\n",
      "4384     86.796667\n",
      "4659     93.396667\n",
      "8720     89.875000\n",
      "10431    87.000000\n",
      "11472    93.910000\n",
      "13611    92.490000\n",
      "13987    93.596667\n",
      "14346    89.986667\n",
      "Name: accuracy, dtype: float64)\n"
     ]
    },
    {
     "data": {
      "image/png": "[encoded data removed]",
      "text/plain": [
       "<Figure size 640x480 with 1 Axes>"
      ]
     },
     "metadata": {},
     "output_type": "display_data"
    }
   ],
   "source": [
    "import pandas as pd\n",
    "import matplotlib.pyplot as plt\n",
    "from paretoset import paretoset\n",
    "\n",
    "# Load the data frame from a csv file\n",
    "\n",
    "# Get the columns to plot\n",
    "x = df[\"latency\"]\n",
    "y = df[\"accuracy\"]\n",
    "\n",
    "# Find the Pareto eff^icient points\n",
    "pareto = paretoset(df[[x.name, y.name]], sense=[\"min\", \"max\"])\n",
    "# Plot the data points and the Pareto front\n",
    "print(f\"Highest point on both axis{x[pareto],y[pareto]}\")\n",
    "plt.scatter(x, y, color=\"blue\", label=\"Data points\")\n",
    "plt.scatter(x[pareto], y[pareto], color=\"red\", label=\"Pareto front\")\n",
    "plt.xlabel(x.name)\n",
    "plt.ylabel(y.name)\n",
    "plt.legend()\n",
    "plt.show()"
   ]
  },
  {
   "cell_type": "code",
   "execution_count": 31,
   "id": "097a04e5",
   "metadata": {},
   "outputs": [],
   "source": [
    "seleted_network= list(x[pareto].keys())\n",
    "with open(\"seleted_network.json\",\"w\") as f:\n",
    "    json.dump(seleted_network,f)"
   ]
  },
  {
   "cell_type": "code",
   "execution_count": 32,
   "id": "778ee5ff",
   "metadata": {},
   "outputs": [
    {
     "data": {
      "text/plain": [
       "[3960, 4384, 4659, 8720, 10431, 11472, 13611, 13987, 14346]"
      ]
     },
     "execution_count": 32,
     "metadata": {},
     "output_type": "execute_result"
    }
   ],
   "source": [
    "data[\"cifar10\"].update(seleted_network)\n"
   ]
  },
  {
   "cell_type": "code",
   "execution_count": 34,
   "id": "6f244eab",
   "metadata": {},
   "outputs": [
    {
     "data": {
      "text/plain": [
       "3960     90.830000\n",
       "4384     86.796667\n",
       "4659     93.396667\n",
       "8720     89.875000\n",
       "10431    87.000000\n",
       "11472    93.910000\n",
       "13611    92.490000\n",
       "13987    93.596667\n",
       "14346    89.986667\n",
       "Name: accuracy, dtype: float64"
      ]
     },
     "execution_count": 34,
     "metadata": {},
     "output_type": "execute_result"
    }
   ],
   "source": [
    "y[pareto]"
   ]
  },
  {
   "cell_type": "code",
   "execution_count": 24,
   "id": "9c2ba2d5",
   "metadata": {},
   "outputs": [
    {
     "data": {
      "text/html": [
       "<div>\n",
       "<style scoped>\n",
       "    .dataframe tbody tr th:only-of-type {\n",
       "        vertical-align: middle;\n",
       "    }\n",
       "\n",
       "    .dataframe tbody tr th {\n",
       "        vertical-align: top;\n",
       "    }\n",
       "\n",
       "    .dataframe thead th {\n",
       "        text-align: right;\n",
       "    }\n",
       "</style>\n",
       "<table border=\"1\" class=\"dataframe\">\n",
       "  <thead>\n",
       "    <tr style=\"text-align: right;\">\n",
       "      <th></th>\n",
       "      <th>cifar10</th>\n",
       "      <th>cifar100</th>\n",
       "      <th>ImageNet16-120</th>\n",
       "    </tr>\n",
       "  </thead>\n",
       "  <tbody>\n",
       "    <tr>\n",
       "      <th>0</th>\n",
       "      <td>{'fpga_latency': 2.57296, 'accuracy': 85.86333...</td>\n",
       "      <td>NaN</td>\n",
       "      <td>NaN</td>\n",
       "    </tr>\n",
       "    <tr>\n",
       "      <th>3</th>\n",
       "      <td>{'fpga_latency': 1.54256, 'accuracy': 86.61666...</td>\n",
       "      <td>NaN</td>\n",
       "      <td>NaN</td>\n",
       "    </tr>\n",
       "    <tr>\n",
       "      <th>4</th>\n",
       "      <td>{'fpga_latency': 2.16336, 'accuracy': 88.21666...</td>\n",
       "      <td>NaN</td>\n",
       "      <td>NaN</td>\n",
       "    </tr>\n",
       "    <tr>\n",
       "      <th>8</th>\n",
       "      <td>{'fpga_latency': 3.31536, 'accuracy': 92.09666...</td>\n",
       "      <td>NaN</td>\n",
       "      <td>NaN</td>\n",
       "    </tr>\n",
       "    <tr>\n",
       "      <th>9</th>\n",
       "      <td>{'fpga_latency': 2.80016, 'accuracy': 86.44333...</td>\n",
       "      <td>NaN</td>\n",
       "      <td>NaN</td>\n",
       "    </tr>\n",
       "    <tr>\n",
       "      <th>...</th>\n",
       "      <td>...</td>\n",
       "      <td>...</td>\n",
       "      <td>...</td>\n",
       "    </tr>\n",
       "    <tr>\n",
       "      <th>15614</th>\n",
       "      <td>{'fpga_latency': 2.39056, 'accuracy': 10.0}</td>\n",
       "      <td>NaN</td>\n",
       "      <td>NaN</td>\n",
       "    </tr>\n",
       "    <tr>\n",
       "      <th>15618</th>\n",
       "      <td>{'fpga_latency': 2.05776, 'accuracy': 75.70666...</td>\n",
       "      <td>NaN</td>\n",
       "      <td>NaN</td>\n",
       "    </tr>\n",
       "    <tr>\n",
       "      <th>15620</th>\n",
       "      <td>{'fpga_latency': 1.95216, 'accuracy': 86.44666...</td>\n",
       "      <td>NaN</td>\n",
       "      <td>NaN</td>\n",
       "    </tr>\n",
       "    <tr>\n",
       "      <th>15623</th>\n",
       "      <td>{'fpga_latency': 2.77136, 'accuracy': 69.98333...</td>\n",
       "      <td>NaN</td>\n",
       "      <td>NaN</td>\n",
       "    </tr>\n",
       "    <tr>\n",
       "      <th>15624</th>\n",
       "      <td>{'fpga_latency': 3.19376, 'accuracy': 86.82333...</td>\n",
       "      <td>NaN</td>\n",
       "      <td>NaN</td>\n",
       "    </tr>\n",
       "  </tbody>\n",
       "</table>\n",
       "<p>8311 rows × 3 columns</p>\n",
       "</div>"
      ],
      "text/plain": [
       "                                                 cifar10  cifar100  \\\n",
       "0      {'fpga_latency': 2.57296, 'accuracy': 85.86333...       NaN   \n",
       "3      {'fpga_latency': 1.54256, 'accuracy': 86.61666...       NaN   \n",
       "4      {'fpga_latency': 2.16336, 'accuracy': 88.21666...       NaN   \n",
       "8      {'fpga_latency': 3.31536, 'accuracy': 92.09666...       NaN   \n",
       "9      {'fpga_latency': 2.80016, 'accuracy': 86.44333...       NaN   \n",
       "...                                                  ...       ...   \n",
       "15614        {'fpga_latency': 2.39056, 'accuracy': 10.0}       NaN   \n",
       "15618  {'fpga_latency': 2.05776, 'accuracy': 75.70666...       NaN   \n",
       "15620  {'fpga_latency': 1.95216, 'accuracy': 86.44666...       NaN   \n",
       "15623  {'fpga_latency': 2.77136, 'accuracy': 69.98333...       NaN   \n",
       "15624  {'fpga_latency': 3.19376, 'accuracy': 86.82333...       NaN   \n",
       "\n",
       "       ImageNet16-120  \n",
       "0                 NaN  \n",
       "3                 NaN  \n",
       "4                 NaN  \n",
       "8                 NaN  \n",
       "9                 NaN  \n",
       "...               ...  \n",
       "15614             NaN  \n",
       "15618             NaN  \n",
       "15620             NaN  \n",
       "15623             NaN  \n",
       "15624             NaN  \n",
       "\n",
       "[8311 rows x 3 columns]"
      ]
     },
     "execution_count": 24,
     "metadata": {},
     "output_type": "execute_result"
    }
   ],
   "source": []
  },
  {
   "cell_type": "code",
   "execution_count": 10,
   "id": "782e9552",
   "metadata": {},
   "outputs": [],
   "source": [
    "def find_point_json_file(file_name):\n",
    "    file=open(file_name,\"r\")\n",
    "    data=json.load(file)\n",
    "    df=pd.DataFrame(data)\n",
    "    x = df[\"Speed\"]\n",
    "    y = df[\"Validation Accuracy\"]\n",
    "    pareto = paretoset(df[[x.name, y.name]], sense=[\"max\", \"max\"])\n",
    "    return x[pareto],y[pareto]"
   ]
  },
  {
   "cell_type": "code",
   "execution_count": 37,
   "id": "b4a3f945",
   "metadata": {},
   "outputs": [],
   "source": [
    "def write_json_file(file_name,data):\n",
    "    with open(file_name, 'a') as outfile:\n",
    "        json.dump(data, outfile)\n",
    "    return"
   ]
  },
  {
   "cell_type": "code",
   "execution_count": 35,
   "id": "c17094c1",
   "metadata": {},
   "outputs": [
    {
     "data": {
      "text/plain": [
       "3960     2.16336\n",
       "4384     1.13296\n",
       "4659     2.90576\n",
       "8720     1.64816\n",
       "10431    1.54256\n",
       "11472    3.64816\n",
       "13611    2.39056\n",
       "13987    3.42096\n",
       "14346    2.05776\n",
       "Name: latency, dtype: float64"
      ]
     },
     "execution_count": 35,
     "metadata": {},
     "output_type": "execute_result"
    }
   ],
   "source": [
    "x[pareto]"
   ]
  },
  {
   "cell_type": "code",
   "execution_count": 48,
   "id": "b9f2c1bc",
   "metadata": {},
   "outputs": [
    {
     "name": "stdout",
     "output_type": "stream",
     "text": [
      "Matching data successfully extracted and saved to 'matching_data.json'.\n"
     ]
    }
   ],
   "source": [
    "import json\n",
    "\n",
    "# Load the original JSON file\n",
    "with open('logging_2_ffcv.json', 'r') as original_file:\n",
    "    original_data = json.load(original_file)\n",
    "\n",
    "# Specify the validation accuracy threshold\n",
    "\n",
    "# Initialize an empty list to store matching data\n",
    "matching_data = []\n",
    "\n",
    "# Iterate through the original data\n",
    "for item in original_data:\n",
    "    # Check if the validation accuracy meets the threshold\n",
    "    for i in y[pareto]:\n",
    "        if item['Validation Accuracy'] == i:\n",
    "            # Add the matching data to the list\n",
    "            matching_data.append(item[\"Sparcity_list\"])\n",
    "\n",
    "# Save the matching data to a separate JSON file\n",
    "with open('matching_data.json', 'w') as matching_file:\n",
    "    json.dump(matching_data, matching_file, indent=4)\n",
    "\n",
    "print(\"Matching data successfully extracted and saved to 'matching_data.json'.\")\n"
   ]
  },
  {
   "cell_type": "code",
   "execution_count": 44,
   "id": "8cd44af7",
   "metadata": {},
   "outputs": [],
   "source": [
    "selected_list=[]\n",
    "for i in range(0,len(data)):\n",
    "    #for j in y[pareto]:\n",
    "    if data[i][\"Validation Accuracy\"] in y[pareto]:\n",
    "            selected_list.append(data[i][\"Validation Accuracy\"])\n",
    "write_json_file(\"sparsity.json\",selected_list)\n",
    "        \n",
    "            \n"
   ]
  },
  {
   "cell_type": "code",
   "execution_count": 36,
   "metadata": {},
   "outputs": [
    {
     "ename": "KeyError",
     "evalue": "\"None of [Index(['Train Loss', 'Validation Accuracy'], dtype='object')] are in the [columns]\"",
     "output_type": "error",
     "traceback": [
      "\u001b[0;31m---------------------------------------------------------------------------\u001b[0m",
      "\u001b[0;31mKeyError\u001b[0m                                  Traceback (most recent call last)",
      "\u001b[1;32m/scratch-local/alam/HW-NAS-Bench/Data-Visual.ipynb Cell 27\u001b[0m line \u001b[0;36m3\n\u001b[1;32m     <a href='vscode-notebook-cell://ssh-remote%2Bcode57/scratch-local/alam/HW-NAS-Bench/Data-Visual.ipynb#X32sdnNjb2RlLXJlbW90ZQ%3D%3D?line=28'>29</a>\u001b[0m y_sense \u001b[39m=\u001b[39m sense[y_index]\n\u001b[1;32m     <a href='vscode-notebook-cell://ssh-remote%2Bcode57/scratch-local/alam/HW-NAS-Bench/Data-Visual.ipynb#X32sdnNjb2RlLXJlbW90ZQ%3D%3D?line=29'>30</a>\u001b[0m \u001b[39m# Find the Pareto efficient points\u001b[39;00m\n\u001b[0;32m---> <a href='vscode-notebook-cell://ssh-remote%2Bcode57/scratch-local/alam/HW-NAS-Bench/Data-Visual.ipynb#X32sdnNjb2RlLXJlbW90ZQ%3D%3D?line=30'>31</a>\u001b[0m pareto \u001b[39m=\u001b[39m paretoset(df[[x, y]], sense\u001b[39m=\u001b[39m[x_sense, y_sense])\n\u001b[1;32m     <a href='vscode-notebook-cell://ssh-remote%2Bcode57/scratch-local/alam/HW-NAS-Bench/Data-Visual.ipynb#X32sdnNjb2RlLXJlbW90ZQ%3D%3D?line=31'>32</a>\u001b[0m \u001b[39m# Plot the data points and the Pareto front\u001b[39;00m\n\u001b[1;32m     <a href='vscode-notebook-cell://ssh-remote%2Bcode57/scratch-local/alam/HW-NAS-Bench/Data-Visual.ipynb#X32sdnNjb2RlLXJlbW90ZQ%3D%3D?line=32'>33</a>\u001b[0m ax\u001b[39m.\u001b[39mscatter(df[x], df[y], color\u001b[39m=\u001b[39m\u001b[39m\"\u001b[39m\u001b[39mblue\u001b[39m\u001b[39m\"\u001b[39m, label\u001b[39m=\u001b[39m\u001b[39m\"\u001b[39m\u001b[39mData points\u001b[39m\u001b[39m\"\u001b[39m)\n",
      "File \u001b[0;32m/scratch-local/alam/anaconda/envs/pytorch/lib/python3.10/site-packages/pandas/core/frame.py:3902\u001b[0m, in \u001b[0;36mDataFrame.__getitem__\u001b[0;34m(self, key)\u001b[0m\n\u001b[1;32m   3900\u001b[0m     \u001b[39mif\u001b[39;00m is_iterator(key):\n\u001b[1;32m   3901\u001b[0m         key \u001b[39m=\u001b[39m \u001b[39mlist\u001b[39m(key)\n\u001b[0;32m-> 3902\u001b[0m     indexer \u001b[39m=\u001b[39m \u001b[39mself\u001b[39;49m\u001b[39m.\u001b[39;49mcolumns\u001b[39m.\u001b[39;49m_get_indexer_strict(key, \u001b[39m\"\u001b[39;49m\u001b[39mcolumns\u001b[39;49m\u001b[39m\"\u001b[39;49m)[\u001b[39m1\u001b[39m]\n\u001b[1;32m   3904\u001b[0m \u001b[39m# take() does not accept boolean indexers\u001b[39;00m\n\u001b[1;32m   3905\u001b[0m \u001b[39mif\u001b[39;00m \u001b[39mgetattr\u001b[39m(indexer, \u001b[39m\"\u001b[39m\u001b[39mdtype\u001b[39m\u001b[39m\"\u001b[39m, \u001b[39mNone\u001b[39;00m) \u001b[39m==\u001b[39m \u001b[39mbool\u001b[39m:\n",
      "File \u001b[0;32m/scratch-local/alam/anaconda/envs/pytorch/lib/python3.10/site-packages/pandas/core/indexes/base.py:6114\u001b[0m, in \u001b[0;36mIndex._get_indexer_strict\u001b[0;34m(self, key, axis_name)\u001b[0m\n\u001b[1;32m   6111\u001b[0m \u001b[39melse\u001b[39;00m:\n\u001b[1;32m   6112\u001b[0m     keyarr, indexer, new_indexer \u001b[39m=\u001b[39m \u001b[39mself\u001b[39m\u001b[39m.\u001b[39m_reindex_non_unique(keyarr)\n\u001b[0;32m-> 6114\u001b[0m \u001b[39mself\u001b[39;49m\u001b[39m.\u001b[39;49m_raise_if_missing(keyarr, indexer, axis_name)\n\u001b[1;32m   6116\u001b[0m keyarr \u001b[39m=\u001b[39m \u001b[39mself\u001b[39m\u001b[39m.\u001b[39mtake(indexer)\n\u001b[1;32m   6117\u001b[0m \u001b[39mif\u001b[39;00m \u001b[39misinstance\u001b[39m(key, Index):\n\u001b[1;32m   6118\u001b[0m     \u001b[39m# GH 42790 - Preserve name from an Index\u001b[39;00m\n",
      "File \u001b[0;32m/scratch-local/alam/anaconda/envs/pytorch/lib/python3.10/site-packages/pandas/core/indexes/base.py:6175\u001b[0m, in \u001b[0;36mIndex._raise_if_missing\u001b[0;34m(self, key, indexer, axis_name)\u001b[0m\n\u001b[1;32m   6173\u001b[0m     \u001b[39mif\u001b[39;00m use_interval_msg:\n\u001b[1;32m   6174\u001b[0m         key \u001b[39m=\u001b[39m \u001b[39mlist\u001b[39m(key)\n\u001b[0;32m-> 6175\u001b[0m     \u001b[39mraise\u001b[39;00m \u001b[39mKeyError\u001b[39;00m(\u001b[39mf\u001b[39m\u001b[39m\"\u001b[39m\u001b[39mNone of [\u001b[39m\u001b[39m{\u001b[39;00mkey\u001b[39m}\u001b[39;00m\u001b[39m] are in the [\u001b[39m\u001b[39m{\u001b[39;00maxis_name\u001b[39m}\u001b[39;00m\u001b[39m]\u001b[39m\u001b[39m\"\u001b[39m)\n\u001b[1;32m   6177\u001b[0m not_found \u001b[39m=\u001b[39m \u001b[39mlist\u001b[39m(ensure_index(key)[missing_mask\u001b[39m.\u001b[39mnonzero()[\u001b[39m0\u001b[39m]]\u001b[39m.\u001b[39munique())\n\u001b[1;32m   6178\u001b[0m \u001b[39mraise\u001b[39;00m \u001b[39mKeyError\u001b[39;00m(\u001b[39mf\u001b[39m\u001b[39m\"\u001b[39m\u001b[39m{\u001b[39;00mnot_found\u001b[39m}\u001b[39;00m\u001b[39m not in index\u001b[39m\u001b[39m\"\u001b[39m)\n",
      "\u001b[0;31mKeyError\u001b[0m: \"None of [Index(['Train Loss', 'Validation Accuracy'], dtype='object')] are in the [columns]\""
     ]
    },
    {
     "data": {
      "image/png": "[encoded data removed]",
      "text/plain": [
       "<Figure size 1200x800 with 6 Axes>"
      ]
     },
     "metadata": {},
     "output_type": "display_data"
    }
   ],
   "source": [
    "import pandas as pd\n",
    "import matplotlib.pyplot as plt\n",
    "from paretoset import paretoset\n",
    "\n",
    "# Load the data frame from a csv file\n",
    "\n",
    "# Define the columns to plot\n",
    "columns = [\"Train Loss\", \"Speed\", \"Validation Accuracy\", \"Validation Loss\"]\n",
    "\n",
    "# Define the sense of each column (min or max)\n",
    "sense = [\"min\", \"max\", \"max\", \"min\"]\n",
    "\n",
    "# Create a figure with subplots\n",
    "fig, axes = plt.subplots(nrows=2, ncols=3, figsize=(12, 8))\n",
    "\n",
    "# Loop through each pair of columns\n",
    "for i, ax in enumerate(axes.flat):\n",
    "    # Skip the last subplot\n",
    "    if i == 5:\n",
    "        break\n",
    "    # Get the indices of the columns\n",
    "    x_index = i // 2\n",
    "    y_index = i % 2 + 2\n",
    "    # Get the column names\n",
    "    x = columns[x_index]\n",
    "    y = columns[y_index]\n",
    "    # Get the sense of the columns\n",
    "    x_sense = sense[x_index]\n",
    "    y_sense = sense[y_index]\n",
    "    # Find the Pareto efficient points\n",
    "    pareto = paretoset(df[[x, y]], sense=[x_sense, y_sense])\n",
    "    # Plot the data points and the Pareto front\n",
    "    ax.scatter(df[x], df[y], color=\"blue\", label=\"Data points\")\n",
    "    ax.scatter(df[x][pareto], df[y][pareto], color=\"red\", label=\"Pareto front\")\n",
    "    ax.set_xlabel(x)\n",
    "    ax.set_ylabel(y)\n",
    "    ax.legend()\n",
    "\n",
    "# Adjust the layout and show the figure\n",
    "fig.tight_layout()\n",
    "plt.show()"
   ]
  },
  {
   "cell_type": "code",
   "execution_count": 5,
   "metadata": {},
   "outputs": [
    {
     "name": "stdout",
     "output_type": "stream",
     "text": [
      "CPU Memory Usage: 16.7 %\n",
      "GPU Memory Usage: 0 MB\n",
      "Process Memory Usage:\n",
      "systemd: 10.02 MB\n",
      "kthreadd: 0.0 MB\n",
      "rcu_gp: 0.0 MB\n",
      "rcu_par_gp: 0.0 MB\n",
      "slub_flushwq: 0.0 MB\n",
      "netns: 0.0 MB\n",
      "kworker/0:0H-events_highpri: 0.0 MB\n",
      "mm_percpu_wq: 0.0 MB\n",
      "rcu_tasks_rude_: 0.0 MB\n",
      "rcu_tasks_trace: 0.0 MB\n",
      "ksoftirqd/0: 0.0 MB\n",
      "rcu_sched: 0.0 MB\n",
      "migration/0: 0.0 MB\n",
      "idle_inject/0: 0.0 MB\n",
      "cpuhp/0: 0.0 MB\n",
      "cpuhp/1: 0.0 MB\n",
      "idle_inject/1: 0.0 MB\n",
      "migration/1: 0.0 MB\n",
      "ksoftirqd/1: 0.0 MB\n",
      "kworker/1:0H-events_highpri: 0.0 MB\n",
      "cpuhp/2: 0.0 MB\n",
      "idle_inject/2: 0.0 MB\n",
      "migration/2: 0.0 MB\n",
      "ksoftirqd/2: 0.0 MB\n",
      "kworker/2:0H-events_highpri: 0.0 MB\n",
      "cpuhp/3: 0.0 MB\n",
      "idle_inject/3: 0.0 MB\n",
      "migration/3: 0.0 MB\n",
      "ksoftirqd/3: 0.0 MB\n",
      "kworker/3:0H-events_highpri: 0.0 MB\n",
      "cpuhp/4: 0.0 MB\n",
      "idle_inject/4: 0.0 MB\n",
      "migration/4: 0.0 MB\n",
      "ksoftirqd/4: 0.0 MB\n",
      "kworker/4:0H-events_highpri: 0.0 MB\n",
      "cpuhp/5: 0.0 MB\n",
      "idle_inject/5: 0.0 MB\n",
      "migration/5: 0.0 MB\n",
      "ksoftirqd/5: 0.0 MB\n",
      "kworker/5:0H-events_highpri: 0.0 MB\n",
      "cpuhp/6: 0.0 MB\n",
      "idle_inject/6: 0.0 MB\n",
      "migration/6: 0.0 MB\n",
      "ksoftirqd/6: 0.0 MB\n",
      "kworker/6:0H-events_highpri: 0.0 MB\n",
      "cpuhp/7: 0.0 MB\n",
      "idle_inject/7: 0.0 MB\n",
      "migration/7: 0.0 MB\n",
      "ksoftirqd/7: 0.0 MB\n",
      "kworker/7:0H-events_highpri: 0.0 MB\n",
      "kdevtmpfs: 0.0 MB\n",
      "inet_frag_wq: 0.0 MB\n",
      "kauditd: 0.0 MB\n",
      "khungtaskd: 0.0 MB\n",
      "oom_reaper: 0.0 MB\n",
      "writeback: 0.0 MB\n",
      "kcompactd0: 0.0 MB\n",
      "ksmd: 0.0 MB\n",
      "khugepaged: 0.0 MB\n",
      "kintegrityd: 0.0 MB\n",
      "kblockd: 0.0 MB\n",
      "blkcg_punt_bio: 0.0 MB\n",
      "tpm_dev_wq: 0.0 MB\n",
      "ata_sff: 0.0 MB\n",
      "md: 0.0 MB\n",
      "edac-poller: 0.0 MB\n",
      "devfreq_wq: 0.0 MB\n",
      "watchdogd: 0.0 MB\n",
      "kworker/0:1H-kblockd: 0.0 MB\n",
      "kswapd0: 0.0 MB\n",
      "ecryptfs-kthrea: 0.0 MB\n",
      "kthrotld: 0.0 MB\n",
      "irq/123-aerdrv: 0.0 MB\n",
      "irq/123-pcie-dp: 0.0 MB\n",
      "acpi_thermal_pm: 0.0 MB\n",
      "vfio-irqfd-clea: 0.0 MB\n",
      "mld: 0.0 MB\n",
      "kworker/2:1H-kblockd: 0.0 MB\n",
      "ipv6_addrconf: 0.0 MB\n",
      "kstrp: 0.0 MB\n",
      "zswap-shrink: 0.0 MB\n",
      "charger_manager: 0.0 MB\n",
      "kworker/5:1H-kblockd: 0.0 MB\n",
      "kworker/1:1H-kblockd: 0.0 MB\n",
      "nvme-wq: 0.0 MB\n",
      "nvme-reset-wq: 0.0 MB\n",
      "nvme-delete-wq: 0.0 MB\n",
      "cryptd: 0.0 MB\n",
      "kworker/4:1H-kblockd: 0.0 MB\n",
      "kworker/6:1H-kblockd: 0.0 MB\n",
      "kworker/3:1H-kblockd: 0.0 MB\n",
      "scsi_eh_0: 0.0 MB\n",
      "scsi_tmf_0: 0.0 MB\n",
      "scsi_eh_1: 0.0 MB\n",
      "scsi_tmf_1: 0.0 MB\n",
      "scsi_eh_2: 0.0 MB\n",
      "scsi_tmf_2: 0.0 MB\n",
      "scsi_eh_3: 0.0 MB\n",
      "scsi_tmf_3: 0.0 MB\n",
      "scsi_eh_4: 0.0 MB\n",
      "scsi_tmf_4: 0.0 MB\n",
      "scsi_eh_5: 0.0 MB\n",
      "scsi_tmf_5: 0.0 MB\n",
      "kworker/7:1H-kblockd: 0.0 MB\n",
      "nv_queue: 0.0 MB\n",
      "nvidia-modeset/: 0.0 MB\n",
      "raid5wq: 0.0 MB\n",
      "jbd2/nvme0n1p4-: 0.0 MB\n",
      "ext4-rsv-conver: 0.0 MB\n",
      "systemd-journald: 71.74 MB\n",
      "rpciod: 0.0 MB\n",
      "xprtiod: 0.0 MB\n",
      "systemd-udevd: 6.75 MB\n",
      "UVM global queu: 0.0 MB\n",
      "UVM deferred re: 0.0 MB\n",
      "UVM Tools Event: 0.0 MB\n",
      "irq/138-mei_me: 0.0 MB\n",
      "jbd2/nvme0n1p5-: 0.0 MB\n",
      "systemd-networkd: 7.81 MB\n",
      "rpcbind: 3.75 MB\n",
      "systemd-oomd: 5.85 MB\n",
      "systemd-timesyncd: 6.27 MB\n",
      "rpc.gssd: 18.02 MB\n",
      "irq/124-0-0008: 0.0 MB\n",
      "haveged: 4.85 MB\n",
      "systemd-resolved: 13.07 MB\n",
      "0-0008-con0: 0.0 MB\n",
      "acpid: 1.15 MB\n",
      "avahi-daemon: 0.34 MB\n",
      "dbus-daemon: 4.52 MB\n",
      "NetworkManager: 19.41 MB\n",
      "gpm: 0.11 MB\n",
      "irqbalance: 3.8 MB\n",
      "networkd-dispat: 20.41 MB\n",
      "polkitd: 12.4 MB\n",
      "nvidia-persistenced: 1.85 MB\n",
      "power-profiles-daemon: 7.74 MB\n",
      "rsyslogd: 5.48 MB\n",
      "smartd: 5.38 MB\n",
      "irq/140-nvidia: 0.0 MB\n",
      "nvidia: 0.0 MB\n",
      "sssd: 89.75 MB\n",
      "switcheroo-control: 6.67 MB\n",
      "thermald: 9.04 MB\n",
      "udisksd: 12.7 MB\n",
      "wpa_supplicant: 5.64 MB\n",
      "ModemManager: 11.62 MB\n",
      "sssd_be: 111.42 MB\n",
      "accounts-daemon: 8.22 MB\n",
      "systemd-logind: 8.77 MB\n",
      "cupsd: 12.43 MB\n",
      "unattended-upgr: 22.84 MB\n",
      "munged: 2.72 MB\n",
      "sshd: 9.36 MB\n",
      "cups-browsed: 8.43 MB\n",
      "nfsiod: 0.0 MB\n",
      "NFSv4 callback: 0.0 MB\n",
      "cron: 2.89 MB\n",
      "kerneloops: 0.45 MB\n",
      "gdm3: 8.89 MB\n",
      "gdm-session-worker: 9.67 MB\n",
      "xinetd: 2.3 MB\n",
      "(sd-pam): 6.07 MB\n",
      "pipewire: 6.83 MB\n",
      "pipewire-media-session: 7.05 MB\n",
      "pulseaudio: 25.94 MB\n",
      "rtkit-daemon: 1.49 MB\n",
      "gdm-x-session: 5.72 MB\n",
      "Xorg: 45.25 MB\n",
      "gsettings-helper: 7.82 MB\n",
      "dbus-run-session: 1.29 MB\n",
      "gnome-session-binary: 17.33 MB\n",
      "at-spi-bus-launcher: 6.8 MB\n",
      "gnome-shell: 218.24 MB\n",
      "sssd_kcm: 210.04 MB\n",
      "xdg-permission-store: 5.29 MB\n",
      "upowerd: 8.78 MB\n",
      "packagekitd: 20.26 MB\n",
      "gjs: 19.5 MB\n",
      "at-spi2-registryd: 6.71 MB\n",
      "gsd-sharing: 8.75 MB\n",
      "gsd-wacom: 16.83 MB\n",
      "gsd-color: 21.18 MB\n",
      "gsd-keyboard: 16.19 MB\n",
      "gsd-print-notifications: 22.63 MB\n",
      "gsd-rfkill: 6.84 MB\n",
      "gsd-smartcard: 7.62 MB\n",
      "gsd-datetime: 15.79 MB\n",
      "gsd-media-keys: 21.93 MB\n",
      "gsd-screensaver-proxy: 5.09 MB\n",
      "gsd-sound: 9.4 MB\n",
      "gsd-a11y-settings: 6.78 MB\n",
      "gsd-housekeeping: 7.78 MB\n",
      "gsd-power: 19.34 MB\n",
      "ibus-daemon: 11.79 MB\n",
      "gsd-printer: 14.83 MB\n",
      "gvfsd: 7.53 MB\n",
      "ibus-memconf: 7.31 MB\n",
      "ibus-portal: 7.41 MB\n",
      "colord: 14.07 MB\n",
      "ibus-engine-simple: 7.29 MB\n",
      "tmux: server: 11.09 MB\n",
      "bash: 5.52 MB\n",
      "python: 66.29 MB\n",
      "vidmem lazy fre: 0.0 MB\n",
      "UVM GPU1 BH: 0.0 MB\n",
      "UVM GPU1 KC: 0.0 MB\n",
      "kworker/4:0-events: 0.0 MB\n",
      "kworker/6:1-events: 0.0 MB\n",
      "kworker/3:0-events: 0.0 MB\n",
      "kworker/0:1-events: 0.0 MB\n",
      "kworker/6:0-mm_percpu_wq: 0.0 MB\n",
      "kworker/u16:0-events_unbound: 0.0 MB\n",
      "kworker/4:1-mm_percpu_wq: 0.0 MB\n",
      "kworker/7:1-events: 0.0 MB\n",
      "kworker/2:2-cgroup_destroy: 0.0 MB\n",
      "sh: 1.03 MB\n",
      "node: 49.74 MB\n",
      "kworker/0:2: 0.0 MB\n",
      "tmux: client: 4.05 MB\n",
      "kworker/5:1-events: 0.0 MB\n",
      "kworker/5:2-mm_percpu_wq: 0.0 MB\n",
      "kworker/1:3-events: 0.0 MB\n",
      "kworker/u16:4-flush-259:0: 0.0 MB\n",
      "kworker/7:2: 0.0 MB\n",
      "kworker/3:3-events: 0.0 MB\n",
      "kworker/2:1-cgroup_destroy: 0.0 MB\n",
      "kworker/1:2-events: 0.0 MB\n",
      "kworker/u16:2-flush-259:0: 0.0 MB\n",
      "sleep: 1.0 MB\n",
      "kworker/2:0-events_freezable: 0.0 MB\n",
      "kworker/u16:1-ext4-rsv-conversion: 0.0 MB\n",
      "cpuUsage.sh: 3.37 MB\n",
      "gvfsd-fuse: 6.61 MB\n",
      "xdg-document-portal: 8.16 MB\n",
      "fusermount3: 2.26 MB\n",
      "dconf-service: 5.87 MB\n",
      "ssh-agent: 4.39 MB\n",
      "kworker/u17:0-xprtiod: 0.0 MB\n",
      "snapd: 32.43 MB\n",
      "gnome-keyring-daemon: 9.6 MB\n",
      "kworker/u17:2-xprtiod: 0.0 MB\n"
     ]
    }
   ],
   "source": [
    "import psutil\n",
    "import os\n",
    "\n",
    "def get_memory_usage():\n",
    "    # Retrieve CPU memory usage\n",
    "    cpu_percent = psutil.cpu_percent()\n",
    "\n",
    "    # Retrieve GPU memory usage (if available)\n",
    "    gpu_memory = 0\n",
    "    if os.path.exists(\"/proc/driver/nvidia/0/utilization\"):\n",
    "        gpu_memory = psutil.get_gpus()[0].memory_free()\n",
    "\n",
    "    # Gather memory usage of all processes\n",
    "    process_memory = {}\n",
    "    for process in psutil.process_iter():\n",
    "        process_name = process.name()\n",
    "        process_memory_usage = process.memory_info()[0]\n",
    "        process_memory[process_name] = process_memory_usage\n",
    "\n",
    "    # Display memory usage information\n",
    "    print(\"CPU Memory Usage:\", cpu_percent, \"%\")\n",
    "    print(\"GPU Memory Usage:\", gpu_memory, \"MB\")\n",
    "    print(\"Process Memory Usage:\")\n",
    "    for process_name, process_memory_usage in process_memory.items():\n",
    "        print(f\"{process_name}: {round(process_memory_usage / 1024 / 1024, 2)} MB\")\n",
    "\n",
    "if __name__ == \"__main__\":\n",
    "    get_memory_usage()\n"
   ]
  },
  {
   "cell_type": "code",
   "execution_count": 2,
   "id": "4bbd32b7",
   "metadata": {},
   "outputs": [
    {
     "name": "stdout",
     "output_type": "stream",
     "text": [
      "Requirement already satisfied: psutil in /scratch-local/alam/anaconda/envs/pytorch/lib/python3.10/site-packages (5.9.5)\n"
     ]
    }
   ],
   "source": [
    "!pip install psutil"
   ]
  },
  {
   "cell_type": "code",
   "execution_count": null,
   "id": "7e4947c5",
   "metadata": {},
   "outputs": [],
   "source": []
  },
  {
   "cell_type": "code",
   "execution_count": 10,
   "id": "dce3f79d",
   "metadata": {},
   "outputs": [
    {
     "ename": "AttributeError",
     "evalue": "module 'pympler.classtracker' has no attribute 'start'",
     "output_type": "error",
     "traceback": [
      "\u001b[0;31m---------------------------------------------------------------------------\u001b[0m",
      "\u001b[0;31mAttributeError\u001b[0m                            Traceback (most recent call last)",
      "\u001b[1;32m/scratch-local/alam/dse_pruning/notebooks/Data-Visual.ipynb Cell 12\u001b[0m line \u001b[0;36m<cell line: 14>\u001b[0;34m()\u001b[0m\n\u001b[1;32m     <a href='vscode-notebook-cell://ssh-remote%2Bcode57/scratch-local/alam/dse_pruning/notebooks/Data-Visual.ipynb#X13sdnNjb2RlLXJlbW90ZQ%3D%3D?line=11'>12</a>\u001b[0m     summary\u001b[39m.\u001b[39mprint_summary()\n\u001b[1;32m     <a href='vscode-notebook-cell://ssh-remote%2Bcode57/scratch-local/alam/dse_pruning/notebooks/Data-Visual.ipynb#X13sdnNjb2RlLXJlbW90ZQ%3D%3D?line=13'>14</a>\u001b[0m \u001b[39mif\u001b[39;00m \u001b[39m__name__\u001b[39m \u001b[39m==\u001b[39m \u001b[39m\"\u001b[39m\u001b[39m__main__\u001b[39m\u001b[39m\"\u001b[39m:\n\u001b[0;32m---> <a href='vscode-notebook-cell://ssh-remote%2Bcode57/scratch-local/alam/dse_pruning/notebooks/Data-Visual.ipynb#X13sdnNjb2RlLXJlbW90ZQ%3D%3D?line=14'>15</a>\u001b[0m     track_memory()\n",
      "\u001b[1;32m/scratch-local/alam/dse_pruning/notebooks/Data-Visual.ipynb Cell 12\u001b[0m line \u001b[0;36mtrack_memory\u001b[0;34m()\u001b[0m\n\u001b[1;32m      <a href='vscode-notebook-cell://ssh-remote%2Bcode57/scratch-local/alam/dse_pruning/notebooks/Data-Visual.ipynb#X13sdnNjb2RlLXJlbW90ZQ%3D%3D?line=3'>4</a>\u001b[0m \u001b[39mdef\u001b[39;00m \u001b[39mtrack_memory\u001b[39m():\n\u001b[1;32m      <a href='vscode-notebook-cell://ssh-remote%2Bcode57/scratch-local/alam/dse_pruning/notebooks/Data-Visual.ipynb#X13sdnNjb2RlLXJlbW90ZQ%3D%3D?line=4'>5</a>\u001b[0m     \u001b[39m# Start tracking memory usage\u001b[39;00m\n\u001b[0;32m----> <a href='vscode-notebook-cell://ssh-remote%2Bcode57/scratch-local/alam/dse_pruning/notebooks/Data-Visual.ipynb#X13sdnNjb2RlLXJlbW90ZQ%3D%3D?line=5'>6</a>\u001b[0m     ct\u001b[39m.\u001b[39;49mstart()\n\u001b[1;32m      <a href='vscode-notebook-cell://ssh-remote%2Bcode57/scratch-local/alam/dse_pruning/notebooks/Data-Visual.ipynb#X13sdnNjb2RlLXJlbW90ZQ%3D%3D?line=7'>8</a>\u001b[0m     \u001b[39m# Run your code\u001b[39;00m\n\u001b[1;32m      <a href='vscode-notebook-cell://ssh-remote%2Bcode57/scratch-local/alam/dse_pruning/notebooks/Data-Visual.ipynb#X13sdnNjb2RlLXJlbW90ZQ%3D%3D?line=8'>9</a>\u001b[0m     \u001b[39m# ...\u001b[39;00m\n\u001b[1;32m     <a href='vscode-notebook-cell://ssh-remote%2Bcode57/scratch-local/alam/dse_pruning/notebooks/Data-Visual.ipynb#X13sdnNjb2RlLXJlbW90ZQ%3D%3D?line=9'>10</a>\u001b[0m \n\u001b[1;32m     <a href='vscode-notebook-cell://ssh-remote%2Bcode57/scratch-local/alam/dse_pruning/notebooks/Data-Visual.ipynb#X13sdnNjb2RlLXJlbW90ZQ%3D%3D?line=10'>11</a>\u001b[0m     \u001b[39m# Stop tracking memory usage and print a summary\u001b[39;00m\n\u001b[1;32m     <a href='vscode-notebook-cell://ssh-remote%2Bcode57/scratch-local/alam/dse_pruning/notebooks/Data-Visual.ipynb#X13sdnNjb2RlLXJlbW90ZQ%3D%3D?line=11'>12</a>\u001b[0m     summary\u001b[39m.\u001b[39mprint_summary()\n",
      "\u001b[0;31mAttributeError\u001b[0m: module 'pympler.classtracker' has no attribute 'start'"
     ]
    }
   ],
   "source": [
    "import pympler.classtracker as ct\n",
    "import pympler.summary as summary\n",
    "\n",
    "def track_memory():\n",
    "    # Start tracking memory usage\n",
    "    ct.start()\n",
    "\n",
    "    # Run your code\n",
    "    # ...\n",
    "\n",
    "    # Stop tracking memory usage and print a summary\n",
    "    summary.print_summary()\n",
    "\n",
    "if __name__ == \"__main__\":\n",
    "    track_memory()\n"
   ]
  },
  {
   "cell_type": "code",
   "execution_count": 9,
   "id": "add76b4a",
   "metadata": {},
   "outputs": [
    {
     "name": "stdout",
     "output_type": "stream",
     "text": [
      "Requirement already satisfied: pympler in /scratch-local/alam/anaconda/envs/pytorch/lib/python3.10/site-packages (1.0.1)\n",
      "Note: you may need to restart the kernel to use updated packages.\n"
     ]
    }
   ],
   "source": [
    "pip install --upgrade pympler"
   ]
  },
  {
   "cell_type": "code",
   "execution_count": null,
   "id": "ff456a60",
   "metadata": {},
   "outputs": [],
   "source": []
  }
 ],
 "metadata": {
  "kernelspec": {
   "display_name": "Python 3",
   "language": "python",
   "name": "python3"
  },
  "language_info": {
   "codemirror_mode": {
    "name": "ipython",
    "version": 3
   },
   "file_extension": ".py",
   "mimetype": "text/x-python",
   "name": "python",
   "nbconvert_exporter": "python",
   "pygments_lexer": "ipython3",
   "version": "3.10.12"
  }
 },
 "nbformat": 4,
 "nbformat_minor": 5
}
