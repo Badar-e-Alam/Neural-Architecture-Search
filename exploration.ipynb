{
 "cells": [
  {
   "cell_type": "markdown",
   "id": "e82b137f",
   "metadata": {},
   "source": [
    "### Geno Encoding"
   ]
  },
  {
   "cell_type": "code",
   "execution_count": 23,
   "id": "c40ab912-4992-4ceb-ac44-fda3a3ff927d",
   "metadata": {},
   "outputs": [
    {
     "name": "stdout",
     "output_type": "stream",
     "text": [
      "Encoder(\n",
      "  (conv_layer): Conv2d(3, 16, kernel_size=(3, 3), stride=(1, 1), padding=(1, 1))\n",
      "  (activation): ReLU()\n",
      ")\n"
     ]
    },
    {
     "ename": "TypeError",
     "evalue": "'int' object is not subscriptable",
     "output_type": "error",
     "traceback": [
      "\u001b[1;31m---------------------------------------------------------------------------\u001b[0m",
      "\u001b[1;31mTypeError\u001b[0m                                 Traceback (most recent call last)",
      "Cell \u001b[1;32mIn[23], line 43\u001b[0m\n\u001b[0;32m     40\u001b[0m encoder \u001b[38;5;241m=\u001b[39m create_encoder(input_size, output_kernel_size, padding)\n\u001b[0;32m     41\u001b[0m \u001b[38;5;28mprint\u001b[39m(encoder)\n\u001b[1;32m---> 43\u001b[0m mutated_encoder \u001b[38;5;241m=\u001b[39m \u001b[43mmutate_encoder\u001b[49m\u001b[43m(\u001b[49m\u001b[43mencoder\u001b[49m\u001b[43m)\u001b[49m\n\u001b[0;32m     44\u001b[0m \u001b[38;5;28mprint\u001b[39m(mutated_encoder)\n",
      "Cell \u001b[1;32mIn[23], line 24\u001b[0m, in \u001b[0;36mmutate_encoder\u001b[1;34m(encoder, mutation_rate)\u001b[0m\n\u001b[0;32m     23\u001b[0m \u001b[38;5;28;01mdef\u001b[39;00m \u001b[38;5;21mmutate_encoder\u001b[39m(encoder, mutation_rate\u001b[38;5;241m=\u001b[39m\u001b[38;5;241m0.1\u001b[39m):\n\u001b[1;32m---> 24\u001b[0m     mutated_encoder \u001b[38;5;241m=\u001b[39m \u001b[43mEncoder\u001b[49m\u001b[43m(\u001b[49m\n\u001b[0;32m     25\u001b[0m \u001b[43m        \u001b[49m\u001b[43minput_size\u001b[49m\u001b[38;5;241;43m=\u001b[39;49m\u001b[43mencoder\u001b[49m\u001b[38;5;241;43m.\u001b[39;49m\u001b[43mconv_layer\u001b[49m\u001b[38;5;241;43m.\u001b[39;49m\u001b[43min_channels\u001b[49m\u001b[43m,\u001b[49m\n\u001b[0;32m     26\u001b[0m \u001b[43m        \u001b[49m\u001b[43moutput_kernel_size\u001b[49m\u001b[38;5;241;43m=\u001b[39;49m\u001b[43mencoder\u001b[49m\u001b[38;5;241;43m.\u001b[39;49m\u001b[43mconv_layer\u001b[49m\u001b[38;5;241;43m.\u001b[39;49m\u001b[43mout_channels\u001b[49m\u001b[43m,\u001b[49m\n\u001b[0;32m     27\u001b[0m \u001b[43m        \u001b[49m\u001b[43mpadding\u001b[49m\u001b[38;5;241;43m=\u001b[39;49m\u001b[43mencoder\u001b[49m\u001b[38;5;241;43m.\u001b[39;49m\u001b[43mconv_layer\u001b[49m\u001b[38;5;241;43m.\u001b[39;49m\u001b[43mpadding\u001b[49m\u001b[43m[\u001b[49m\u001b[38;5;241;43m0\u001b[39;49m\u001b[43m]\u001b[49m\n\u001b[0;32m     28\u001b[0m \u001b[43m    \u001b[49m\u001b[43m)\u001b[49m\n\u001b[0;32m     30\u001b[0m     \u001b[38;5;28;01mfor\u001b[39;00m param, mutated_param \u001b[38;5;129;01min\u001b[39;00m \u001b[38;5;28mzip\u001b[39m(encoder\u001b[38;5;241m.\u001b[39mparameters(), mutated_encoder\u001b[38;5;241m.\u001b[39mparameters()):\n\u001b[0;32m     31\u001b[0m         \u001b[38;5;28;01mif\u001b[39;00m torch\u001b[38;5;241m.\u001b[39mrand(\u001b[38;5;241m1\u001b[39m) \u001b[38;5;241m<\u001b[39m mutation_rate:\n",
      "Cell \u001b[1;32mIn[23], line 8\u001b[0m, in \u001b[0;36mEncoder.__init__\u001b[1;34m(self, input_size, output_kernel_size, padding)\u001b[0m\n\u001b[0;32m      5\u001b[0m \u001b[38;5;28;01mdef\u001b[39;00m \u001b[38;5;21m__init__\u001b[39m(\u001b[38;5;28mself\u001b[39m, input_size, output_kernel_size, padding):\n\u001b[0;32m      6\u001b[0m     \u001b[38;5;28msuper\u001b[39m(Encoder, \u001b[38;5;28mself\u001b[39m)\u001b[38;5;241m.\u001b[39m\u001b[38;5;21m__init__\u001b[39m()\n\u001b[1;32m----> 8\u001b[0m     \u001b[38;5;28mself\u001b[39m\u001b[38;5;241m.\u001b[39mconv_layer \u001b[38;5;241m=\u001b[39m nn\u001b[38;5;241m.\u001b[39mConv2d(in_channels\u001b[38;5;241m=\u001b[39m\u001b[43minput_size\u001b[49m\u001b[43m[\u001b[49m\u001b[38;5;241;43m0\u001b[39;49m\u001b[43m]\u001b[49m,\n\u001b[0;32m      9\u001b[0m                                 out_channels\u001b[38;5;241m=\u001b[39moutput_kernel_size[\u001b[38;5;241m0\u001b[39m],\n\u001b[0;32m     10\u001b[0m                                 kernel_size\u001b[38;5;241m=\u001b[39moutput_kernel_size[\u001b[38;5;241m1\u001b[39m:],\n\u001b[0;32m     11\u001b[0m                                 padding\u001b[38;5;241m=\u001b[39mpadding)\n\u001b[0;32m     13\u001b[0m     \u001b[38;5;28mself\u001b[39m\u001b[38;5;241m.\u001b[39mactivation \u001b[38;5;241m=\u001b[39m nn\u001b[38;5;241m.\u001b[39mReLU()\n",
      "\u001b[1;31mTypeError\u001b[0m: 'int' object is not subscriptable"
     ]
    }
   ],
   "source": [
    "import torch\n",
    "import torch.nn as nn\n",
    "\n",
    "class Encoder(nn.Module):\n",
    "    def __init__(self, input_size, output_kernel_size, padding):\n",
    "        super(Encoder, self).__init__()\n",
    "        \n",
    "        self.conv_layer = nn.Conv2d(in_channels=input_size[0],\n",
    "                                    out_channels=output_kernel_size[0],\n",
    "                                    kernel_size=output_kernel_size[1:],\n",
    "                                    padding=padding)\n",
    "        \n",
    "        self.activation = nn.ReLU()\n",
    "        \n",
    "    def forward(self, x):\n",
    "        x = self.conv_layer(x)\n",
    "        x = self.activation(x)\n",
    "        return x\n",
    "\n",
    "def create_encoder(input_size, output_kernel_size, padding):\n",
    "    return Encoder(input_size, output_kernel_size, padding)\n",
    "\n",
    "def mutate_encoder(encoder, mutation_rate=0.1):\n",
    "    mutated_encoder = Encoder(\n",
    "        input_size=encoder.conv_layer.in_channels,\n",
    "        output_kernel_size=encoder.conv_layer.out_channels,\n",
    "        padding=encoder.conv_layer.padding[0]\n",
    "    )\n",
    "    \n",
    "    for param, mutated_param in zip(encoder.parameters(), mutated_encoder.parameters()):\n",
    "        if torch.rand(1) < mutation_rate:\n",
    "            mutated_param.data = param.data + torch.randn_like(param.data) * 0.1  # Adding noise\n",
    "    \n",
    "    return mutated_encoder\n",
    "\n",
    "# Example usage\n",
    "input_size = (3, 64, 64)  # Assuming RGB images of size 64x64\n",
    "output_kernel_size = (16, 3, 3)  # 16 output channels, 3x3 kernel\n",
    "padding = 1\n",
    "encoder = create_encoder(input_size, output_kernel_size, padding)\n",
    "print(encoder)\n",
    "\n",
    "mutated_encoder = mutate_encoder(encoder)\n",
    "print(mutated_encoder)\n"
   ]
  },
  {
   "cell_type": "code",
   "execution_count": null,
   "id": "40afdb20",
   "metadata": {},
   "outputs": [],
   "source": []
  },
  {
   "cell_type": "code",
   "execution_count": 27,
   "id": "8ab62b68-dd1e-44a4-87e5-42cb220bc4bc",
   "metadata": {},
   "outputs": [],
   "source": [
    "import torch.nn as nn\n",
    "\n",
    "class EncodedNetwork(nn.Module):\n",
    "    def __init__(self, architecture):\n",
    "        super(EncodedNetwork, self).__init__()\n",
    "        \n",
    "        layers = architecture.split('-')\n",
    "        \n",
    "        layer_units = []\n",
    "        for layer in layers :\n",
    "                if layer.startswith('I'):\n",
    "                    self.input_units = int(layer[1:])\n",
    "                elif layer.startswith('O'):\n",
    "                    self.output_units = int(layer[1:])\n",
    "                elif layer.startswith(\"P\"):\n",
    "                    self.padding=int(layer[1:])\n",
    "                elif layer.startswith(\"k\"):\n",
    "                    self.kernel=int(layer[1:])\n",
    "                elif layer.startswithe(\"S\"):\n",
    "                    self.stride=int(layer[1:])\n",
    "                    \n",
    "            \n",
    "        self.layers = []\n",
    "        for units in 10:\n",
    "                self.layers.append(nn.Conv2d(self.input_units, self.output_units,kernel_size=(self.kernel,self.kernel),stride=(self.stride,self.stride),padding=(self.padding,self.padding)))\n",
    "                self.layers.append(nn.ReLU())\n",
    "                self.input_units = units\n",
    "            \n",
    "        self.layers.append(nn.Linear(self.input_units, self.output_units))\n",
    "            \n",
    "        self.network = nn.Sequential(*self.layers)\n",
    "    \n",
    "    def forward(self, x):\n",
    "        return self.network(x)\n",
    "\n",
    "# Example encoded architecture\n",
    "\n"
   ]
  },
  {
   "cell_type": "code",
   "execution_count": 28,
   "id": "f1ba169a-a682-47ec-ac01-8e408c29c8ef",
   "metadata": {},
   "outputs": [
    {
     "ename": "ValueError",
     "evalue": "invalid literal for int() with base 10: '1,016,P2,K2,S1'",
     "output_type": "error",
     "traceback": [
      "\u001b[1;31m---------------------------------------------------------------------------\u001b[0m",
      "\u001b[1;31mValueError\u001b[0m                                Traceback (most recent call last)",
      "Cell \u001b[1;32mIn[28], line 2\u001b[0m\n\u001b[0;32m      1\u001b[0m population\u001b[38;5;241m=\u001b[39m\u001b[38;5;124m\"\u001b[39m\u001b[38;5;124mI1,016,P2,K2,S1-I16,032,P2,K2,S1\u001b[39m\u001b[38;5;124m\"\u001b[39m\n\u001b[1;32m----> 2\u001b[0m net\u001b[38;5;241m=\u001b[39m\u001b[43mEncodedNetwork\u001b[49m\u001b[43m(\u001b[49m\u001b[43mpopulation\u001b[49m\u001b[43m)\u001b[49m\n",
      "Cell \u001b[1;32mIn[27], line 12\u001b[0m, in \u001b[0;36mEncodedNetwork.__init__\u001b[1;34m(self, architecture)\u001b[0m\n\u001b[0;32m     10\u001b[0m \u001b[38;5;28;01mfor\u001b[39;00m layer \u001b[38;5;129;01min\u001b[39;00m layers :\n\u001b[0;32m     11\u001b[0m         \u001b[38;5;28;01mif\u001b[39;00m layer\u001b[38;5;241m.\u001b[39mstartswith(\u001b[38;5;124m'\u001b[39m\u001b[38;5;124mI\u001b[39m\u001b[38;5;124m'\u001b[39m):\n\u001b[1;32m---> 12\u001b[0m             \u001b[38;5;28mself\u001b[39m\u001b[38;5;241m.\u001b[39minput_units \u001b[38;5;241m=\u001b[39m \u001b[38;5;28;43mint\u001b[39;49m\u001b[43m(\u001b[49m\u001b[43mlayer\u001b[49m\u001b[43m[\u001b[49m\u001b[38;5;241;43m1\u001b[39;49m\u001b[43m:\u001b[49m\u001b[43m]\u001b[49m\u001b[43m)\u001b[49m\n\u001b[0;32m     13\u001b[0m         \u001b[38;5;28;01melif\u001b[39;00m layer\u001b[38;5;241m.\u001b[39mstartswith(\u001b[38;5;124m'\u001b[39m\u001b[38;5;124mO\u001b[39m\u001b[38;5;124m'\u001b[39m):\n\u001b[0;32m     14\u001b[0m             \u001b[38;5;28mself\u001b[39m\u001b[38;5;241m.\u001b[39moutput_units \u001b[38;5;241m=\u001b[39m \u001b[38;5;28mint\u001b[39m(layer[\u001b[38;5;241m1\u001b[39m:])\n",
      "\u001b[1;31mValueError\u001b[0m: invalid literal for int() with base 10: '1,016,P2,K2,S1'"
     ]
    }
   ],
   "source": [
    "population=\"I1,016,P2,K2,S1-I16,032,P2,K2,S1\"\n",
    "net=EncodedNetwork(population)"
   ]
  },
  {
   "cell_type": "code",
   "execution_count": 29,
   "id": "197ca39a-a8f8-4018-8127-a674de972ec4",
   "metadata": {},
   "outputs": [],
   "source": [
    "import torch.nn as nn\n",
    "\n",
    "class Encodingnetwork(nn.Module):\n",
    "    def __init__(self, architecture):\n",
    "        super(Encodingnetwork, self).__init__()\n",
    "        \n",
    "        layers = architecture.split('-')\n",
    "        \n",
    "        layer_units = []\n",
    "        for l in layers:\n",
    "            cells=l.split(\"_\")               \n",
    "            for layer in cells :\n",
    "                if layer.startswith('I'):\n",
    "                    self.input_units = int(layer[1:])\n",
    "                elif layer.startswith('O'):\n",
    "                    self.output_units = int(layer[1:])\n",
    "                elif layer.startswith(\"P\"):\n",
    "                    self.padding=int(layer[1:])\n",
    "                elif layer.startswith(\"k\"):\n",
    "                    self.kernel=int(layer[1:])\n",
    "                elif layer.startswithe(\"S\"):\n",
    "                    self.stride=int(layer[1:])\n",
    "                elif layer.startswith(\"Inception\"):\n",
    "                    self.inception_module = nn.ModuleList([\n",
    "                        nn.Conv2d(self.input_units, 64, kernel_size=(1,1), stride=(1,1), padding=(0,0)),\n",
    "                        nn.Conv2d(self.input_units, 128, kernel_size=(3,3), stride=(1,1), padding=(1,1)),\n",
    "                        nn.Conv2d(self.input_units, 256, kernel_size=(5,5), stride=(1,1), padding=(2,2)),\n",
    "                    ])\n",
    "                    self.output_units = 256\n",
    "                    \n",
    "            \n",
    "            self.layers = []\n",
    "            for units in layer_units:\n",
    "                if layer.startswith(\"Inception\"):\n",
    "                    self.layers.append(self.inception_module[0])\n",
    "                    self.layers.append(nn.ReLU())\n",
    "                    self.layers.append(self.inception_module[1])                    \n",
    "                    self.layers.append(nn.ReLU())\n",
    "                    self.layers.append(self.inception_module[2])\n",
    "                    self.layers.append(nn.ReLU())\n",
    "                else:\n",
    "                    self.layers.append(nn.Conv2d(self.input_units, self.output_units,kernel_size=(self.kernel,self.kernel),stride=(self.stride,self.stride),padding=(self.padding,self.padding)))\n",
    "                    self.layers.append(nn.ReLU())\n",
    "                    self.input_units = units\n",
    "            \n",
    "            self.layers.append(nn.Linear(self.input_units, self.output_units))\n",
    "            \n",
    "            self.network = nn.Sequential(*self.layers)\n",
    "    \n",
    "    def forward(self, x):\n",
    "        return self.network(x)\n",
    "\n",
    "# Example encoded architecture\n",
    "\n"
   ]
  },
  {
   "cell_type": "code",
   "execution_count": 5,
   "id": "e7505a45-bb2c-4802-a383-8f8acbaa2121",
   "metadata": {},
   "outputs": [
    {
     "ename": "AttributeError",
     "evalue": "'Encodingnetwork' object has no attribute 'output_units'",
     "output_type": "error",
     "traceback": [
      "\u001b[1;31m---------------------------------------------------------------------------\u001b[0m",
      "\u001b[1;31mAttributeError\u001b[0m                            Traceback (most recent call last)",
      "Cell \u001b[1;32mIn[5], line 9\u001b[0m\n\u001b[0;32m      7\u001b[0m \u001b[38;5;66;03m# Create an instance of EncodedNetwork\u001b[39;00m\n\u001b[0;32m      8\u001b[0m population \u001b[38;5;241m=\u001b[39m \u001b[38;5;241m64\u001b[39m  \u001b[38;5;66;03m# You can set the population value here\u001b[39;00m\n\u001b[1;32m----> 9\u001b[0m net \u001b[38;5;241m=\u001b[39m \u001b[43mEncodingnetwork\u001b[49m\u001b[43m(\u001b[49m\u001b[43marchitecture\u001b[49m\u001b[43m)\u001b[49m\n\u001b[0;32m     11\u001b[0m \u001b[38;5;66;03m# Create a random input tensor for testing\u001b[39;00m\n\u001b[0;32m     12\u001b[0m batch_size \u001b[38;5;241m=\u001b[39m \u001b[38;5;241m16\u001b[39m\n",
      "Cell \u001b[1;32mIn[4], line 46\u001b[0m, in \u001b[0;36mEncodingnetwork.__init__\u001b[1;34m(self, architecture)\u001b[0m\n\u001b[0;32m     43\u001b[0m         \u001b[38;5;28mself\u001b[39m\u001b[38;5;241m.\u001b[39mlayers\u001b[38;5;241m.\u001b[39mappend(nn\u001b[38;5;241m.\u001b[39mReLU())\n\u001b[0;32m     44\u001b[0m         \u001b[38;5;28mself\u001b[39m\u001b[38;5;241m.\u001b[39minput_units \u001b[38;5;241m=\u001b[39m units\n\u001b[1;32m---> 46\u001b[0m \u001b[38;5;28mself\u001b[39m\u001b[38;5;241m.\u001b[39mlayers\u001b[38;5;241m.\u001b[39mappend(nn\u001b[38;5;241m.\u001b[39mLinear(\u001b[38;5;28mself\u001b[39m\u001b[38;5;241m.\u001b[39minput_units, \u001b[38;5;28;43mself\u001b[39;49m\u001b[38;5;241;43m.\u001b[39;49m\u001b[43moutput_units\u001b[49m))\n\u001b[0;32m     48\u001b[0m \u001b[38;5;28mself\u001b[39m\u001b[38;5;241m.\u001b[39mnetwork \u001b[38;5;241m=\u001b[39m nn\u001b[38;5;241m.\u001b[39mSequential(\u001b[38;5;241m*\u001b[39m\u001b[38;5;28mself\u001b[39m\u001b[38;5;241m.\u001b[39mlayers)\n",
      "File \u001b[1;32m~\\anaconda3\\envs\\torch-env\\Lib\\site-packages\\torch\\nn\\modules\\module.py:1614\u001b[0m, in \u001b[0;36mModule.__getattr__\u001b[1;34m(self, name)\u001b[0m\n\u001b[0;32m   1612\u001b[0m     \u001b[38;5;28;01mif\u001b[39;00m name \u001b[38;5;129;01min\u001b[39;00m modules:\n\u001b[0;32m   1613\u001b[0m         \u001b[38;5;28;01mreturn\u001b[39;00m modules[name]\n\u001b[1;32m-> 1614\u001b[0m \u001b[38;5;28;01mraise\u001b[39;00m \u001b[38;5;167;01mAttributeError\u001b[39;00m(\u001b[38;5;124m\"\u001b[39m\u001b[38;5;124m'\u001b[39m\u001b[38;5;132;01m{}\u001b[39;00m\u001b[38;5;124m'\u001b[39m\u001b[38;5;124m object has no attribute \u001b[39m\u001b[38;5;124m'\u001b[39m\u001b[38;5;132;01m{}\u001b[39;00m\u001b[38;5;124m'\u001b[39m\u001b[38;5;124m\"\u001b[39m\u001b[38;5;241m.\u001b[39mformat(\n\u001b[0;32m   1615\u001b[0m     \u001b[38;5;28mtype\u001b[39m(\u001b[38;5;28mself\u001b[39m)\u001b[38;5;241m.\u001b[39m\u001b[38;5;18m__name__\u001b[39m, name))\n",
      "\u001b[1;31mAttributeError\u001b[0m: 'Encodingnetwork' object has no attribute 'output_units'"
     ]
    }
   ],
   "source": [
    "import torch\n",
    "import torch.nn as nn\n",
    "\n",
    "# Define an architecture string\n",
    "architecture = \"I3-Conv2_32-Conv2_64-Inception-ResNet-Conv2_128-Conv2_256-FC_10\"\n",
    "\n",
    "# Create an instance of EncodedNetwork\n",
    "population = 64  # You can set the population value here\n",
    "net = Encodingnetwork(architecture)\n",
    "\n",
    "# Create a random input tensor for testing\n",
    "batch_size = 16\n",
    "channels = 3\n",
    "input_size = 64\n",
    "x = torch.randn(batch_size, channels, input_size, input_size)\n",
    "\n",
    "# Forward pass through the network\n",
    "output = net(x)\n",
    "\n",
    "# Print the shape of the output tensor\n",
    "print(\"Output shape:\", output.shape)\n"
   ]
  },
  {
   "cell_type": "code",
   "execution_count": null,
   "id": "1840f76d-eaab-4436-9c5e-a3a7128bf9f2",
   "metadata": {},
   "outputs": [],
   "source": [
    "Population=[\"I1_O16_P2_S1_K5-I16_O32_P2_S1_K5-I32_O64_P2_S1_K5-I64_O128_P2_S1_K5\"]\n",
    "Population      "
   ]
  },
  {
   "cell_type": "code",
   "execution_count": null,
   "id": "0854e0bc-4458-4814-b13e-9c9d89f30419",
   "metadata": {},
   "outputs": [],
   "source": [
    "net=Encodingnetwork(Population)"
   ]
  },
  {
   "cell_type": "code",
   "execution_count": null,
   "id": "6cf75c7c-bd06-461e-b26a-950981310d8f",
   "metadata": {},
   "outputs": [],
   "source": [
    "\"badar\".startswith(\"ba\")"
   ]
  },
  {
   "cell_type": "code",
   "execution_count": null,
   "id": "330dce07-3c12-4f77-91bf-9108114c411b",
   "metadata": {},
   "outputs": [],
   "source": [
    "network"
   ]
  },
  {
   "cell_type": "code",
   "execution_count": null,
   "id": "bf4f27c7",
   "metadata": {},
   "outputs": [],
   "source": [
    "#function to minimize\n",
    "def fitness_function(network, dataloader):\n",
    "    network.eval()\n",
    "    with torch.no_grad():\n",
    "        correct = 0\n",
    "        total = 0\n",
    "        for images, labels in dataloader:\n",
    "            outputs = network(images)\n",
    "            _, predicted = outputs.max(1)\n",
    "            correct += (predicted == labels).sum().item()\n",
    "            total += labels.size(0)\n",
    "    return correct / total"
   ]
  },
  {
   "cell_type": "code",
   "execution_count": null,
   "id": "9bf01508",
   "metadata": {},
   "outputs": [],
   "source": [
    "#downloading the dataset\n",
    "from torchvision import datasets, transforms\n",
    "transform=transforms.Compose([\n",
    "    transforms.ToTensor(),\n",
    "    transforms.Normalize((0.1307,), (0.3081,))\n",
    "    ])\n",
    "train_dataset = datasets.MNIST('../data', train=True, download=True,\n",
    "                   transform=transform)\n",
    "test_dataset = datasets.MNIST('../data', train=False,\n",
    "                   transform=transform)\n"
   ]
  },
  {
   "cell_type": "code",
   "execution_count": null,
   "id": "5bdf23ba",
   "metadata": {},
   "outputs": [],
   "source": [
    "import torch\n",
    "from torch import nn\n",
    "from evotorch.neuroevolution.net import count_parameters\n",
    "\n",
    "class MNIST30K(nn.Module):\n",
    "\n",
    "    def __init__(self) -> None:\n",
    "        super().__init__()\n",
    "        # The first convolution uses a 5x5 kernel and has 16 filters\n",
    "        self.conv1 = nn.Conv2d(1, 16, kernel_size = 5, stride = 1, padding=2)\n",
    "        # Then max pooling is applied with a kernel size of 2\n",
    "        self.pool1 = nn.MaxPool2d(kernel_size = 2)\n",
    "        # The second convolution uses a 5x5 kernel and has 32 filters\n",
    "        self.conv2 = nn.Conv2d(16, 32, kernel_size = 5, stride = 1, padding = 2)\n",
    "        # Another max pooling is applied with a kernel size of 2\n",
    "        self.pool2 = nn.MaxPool2d(kernel_size = 2)\n",
    "\n",
    "        # The authors are unclear about when they apply batchnorm. \n",
    "        # As a result, we will apply after the second pool\n",
    "        self.norm = nn.BatchNorm1d(1568, affine = False)\n",
    "\n",
    "        # A final linear layer maps outputs to the 10 target classes\n",
    "        self.out = nn.Linear(1568, 10)\n",
    "\n",
    "        # All activations are ReLU\n",
    "        self.act = nn.ReLU()\n",
    "\n",
    "    def forward(self, data: torch.Tensor) -> torch.Tensor:\n",
    "        # Apply the first conv + pool\n",
    "        data = self.pool1(self.act(self.conv1(data)))\n",
    "        # Apply the second conv + pool\n",
    "        data = self.pool2(self.act(self.conv2(data)))\n",
    "\n",
    "        # Apply layer norm\n",
    "        data = self.norm(data.flatten(start_dim = 1))\n",
    "\n",
    "        # Flatten and apply the output linear layer\n",
    "        data = self.out(data)\n",
    "\n",
    "        return data\n",
    "\n",
    "network = MNIST30K()\n",
    "print(f'Network has {count_parameters(network)} parameters')"
   ]
  },
  {
   "cell_type": "code",
   "execution_count": null,
   "id": "63edfb20-9f17-4ec7-b33d-fe048f17267c",
   "metadata": {},
   "outputs": [],
   "source": [
    "network"
   ]
  },
  {
   "cell_type": "code",
   "execution_count": null,
   "id": "fc50e87d",
   "metadata": {},
   "outputs": [],
   "source": [
    "from torchvision import datasets, transforms\n",
    "\n",
    "transform=transforms.Compose([\n",
    "    transforms.ToTensor(),\n",
    "    transforms.Normalize((0.1307,), (0.3081,))\n",
    "    ])\n",
    "train_dataset = datasets.MNIST('../data', train=True, download=True,\n",
    "                   transform=transform)\n",
    "test_dataset = datasets.MNIST('../data', train=False,\n",
    "                   transform=transform)"
   ]
  },
  {
   "cell_type": "code",
   "execution_count": null,
   "id": "a2be798b-ac68-48ac-b64a-47795c194c3a",
   "metadata": {},
   "outputs": [],
   "source": [
    "MNIST30K"
   ]
  },
  {
   "cell_type": "code",
   "execution_count": null,
   "id": "3af19b27",
   "metadata": {},
   "outputs": [],
   "source": [
    "from evotorch.neuroevolution import SupervisedNE\n",
    "\n",
    "mnist_problem = SupervisedNE(\n",
    "    train_dataset,  # Using the dataset specified earlier\n",
    "    EncodedNetwork(population[0]),  # Training the MNIST30K module designed earlier\n",
    "    nn.CrossEntropyLoss(),  # Minimizing CrossEntropyLoss\n",
    "    minibatch_size = 256,  # With a minibatch size of 256\n",
    "    common_minibatch = True,  # Always using the same minibatch across all solutions on an actor\n",
    "    num_actors = 4,  # The total number of CPUs used\n",
    "    num_gpus_per_actor = 'max',  # Dividing all available GPUs between the 4 actors\n",
    "    subbatch_size = 50,  # Evaluating solutions in sub-batches of size 50 ensures we won't run out of GPU memory for individual workers\n",
    ")"
   ]
  },
  {
   "cell_type": "code",
   "execution_count": null,
   "id": "27aac148",
   "metadata": {},
   "outputs": [],
   "source": [
    "from evotorch.algorithms import SNES\n",
    "searcher = SNES(mnist_problem, stdev_init = 1, popsize = 1000, distributed = True)"
   ]
  },
  {
   "cell_type": "code",
   "execution_count": null,
   "id": "8fc9e6d3",
   "metadata": {},
   "outputs": [],
   "source": [
    "from evotorch.logging import StdOutLogger, PandasLogger\n",
    "stdout_logger = StdOutLogger(searcher, interval = 1)\n",
    "pandas_logger = PandasLogger(searcher, interval = 1)"
   ]
  },
  {
   "cell_type": "code",
   "execution_count": null,
   "id": "869217df",
   "metadata": {},
   "outputs": [],
   "source": [
    "searcher.run(10)"
   ]
  },
  {
   "cell_type": "code",
   "execution_count": null,
   "id": "f7c4105d",
   "metadata": {},
   "outputs": [],
   "source": [
    "pandas_logger.to_dataframe().mean_eval.plot()"
   ]
  },
  {
   "cell_type": "code",
   "execution_count": null,
   "id": "84e8d1de",
   "metadata": {},
   "outputs": [],
   "source": [
    "net = mnist_problem.parameterize_net(searcher.status['center']).cpu()\n",
    "\n",
    "loss = torch.nn.CrossEntropyLoss()\n",
    "net.eval()\n",
    "test_loader = torch.utils.data.DataLoader(test_dataset, batch_size = 256, shuffle = False)\n",
    "test_loss = 0\n",
    "correct = 0\n",
    "\n",
    "with torch.no_grad():\n",
    "    for data, target in test_loader:\n",
    "        output = net(data)\n",
    "        test_loss += loss(output, target).item() * data.shape[0]\n",
    "        pred = output.data.max(1, keepdim=True)[1]\n",
    "        correct += pred.eq(target.data.view_as(pred)).sum()\n",
    "    test_loss /= len(test_loader.dataset)\n",
    "print('Test set: Avg. loss: {:.4f}, Accuracy: {}/{} ({:.0f}%)\\n'.format(\n",
    "test_loss, correct, len(test_loader.dataset),\n",
    "100. * correct / len(test_loader.dataset)))"
   ]
  },
  {
   "cell_type": "code",
   "execution_count": null,
   "id": "a01c082c",
   "metadata": {},
   "outputs": [],
   "source": [
    "import torch"
   ]
  },
  {
   "cell_type": "code",
   "execution_count": null,
   "id": "7406d130",
   "metadata": {},
   "outputs": [],
   "source": [
    "torch.cuda.is_available()"
   ]
  },
  {
   "cell_type": "code",
   "execution_count": 20,
   "id": "e05d0a9a",
   "metadata": {},
   "outputs": [],
   "source": [
    "def create_neural_networks(population):\n",
    "  \"\"\"Creates a list of neural networks from the given population.\n",
    "\n",
    "  Args:\n",
    "    population: The population of the neural networks, in the format\n",
    "      \"I<number of inputs>,P<number of hidden layers>,K<number of neurons per hidden layer>,S<number of outputs>-I<number of inputs>,P<number of hidden layers>,K<number of neurons per hidden layer>,S<number of outputs>\".\n",
    "\n",
    "  Returns:\n",
    "    A list of neural networks.\n",
    "  \"\"\"\n",
    "\n",
    "  # Split the population into its components.\n",
    "  neural_networks = []\n",
    "  for network in population.split(\"-\"):\n",
    "    neural_networks.append(create_neural_networks(network))\n",
    "\n",
    "  # Return the neural networks.\n",
    "  return neural_networks\n"
   ]
  },
  {
   "cell_type": "code",
   "execution_count": 21,
   "id": "0db81d5d-d772-4a54-9896-200dc542e197",
   "metadata": {},
   "outputs": [],
   "source": [
    "import numpy as np\n",
    "\n",
    "class NeuralNetworks:\n",
    "\n",
    "  def __init__(self, number_of_inputs, number_of_hidden_layers, number_of_neurons_per_hidden_layer, number_of_outputs):\n",
    "    self.number_of_inputs = number_of_inputs\n",
    "    self.number_of_hidden_layers = number_of_hidden_layers\n",
    "    self.number_of_neurons_per_hidden_layer = number_of_neurons_per_hidden_layer\n",
    "    self.number_of_outputs = number_of_outputs\n",
    "    self.weights = np.random.rand(number_of_inputs, number_of_neurons_per_hidden_layer)\n",
    "    self.biases = np.random.rand(number_of_neurons_per_hidden_layer)\n",
    "\n",
    "  def forward_propagate(self, inputs):\n",
    "    \"\"\"Propagates the input data through the neural network and returns the output.\"\"\"\n",
    "\n",
    "    layer_outputs = []\n",
    "    for i in range(self.number_of_hidden_layers):\n",
    "      layer_outputs.append(np.dot(inputs, self.weights[i]) + self.biases[i])\n",
    "    inputs = layer_outputs[-1]\n",
    "\n",
    "    return inputs\n",
    "\n",
    "  def backward_propagate(self, errors):\n",
    "    \"\"\"Propagates the error through the neural network and updates the weights and biases.\"\"\"\n",
    "\n",
    "    for i in reversed(range(self.number_of_hidden_layers)):\n",
    "      errors = np.dot(errors, self.weights[i].T)\n",
    "      self.weights[i] += np.dot(inputs.T, errors)\n",
    "      self.biases[i] += errors\n",
    "\n",
    "  def predict(self, inputs):\n",
    "    \"\"\"Takes in an input and returns the predicted output.\"\"\"\n",
    "\n",
    "    outputs = self.forward_propagate(inputs)\n",
    "    return outputs\n",
    "\n",
    "  def train(self, dataset):\n",
    "    \"\"\"Trains the neural network on a dataset.\"\"\"\n",
    "\n",
    "    for inputs, outputs in dataset:\n",
    "      errors = outputs - self.predict(inputs)\n",
    "      self.backward_propagate(errors)\n",
    "\n"
   ]
  },
  {
   "cell_type": "code",
   "execution_count": 22,
   "id": "1ded81bb-858e-4a40-a808-f3ce05f4fdcb",
   "metadata": {},
   "outputs": [
    {
     "ename": "RecursionError",
     "evalue": "maximum recursion depth exceeded",
     "output_type": "error",
     "traceback": [
      "\u001b[1;31m---------------------------------------------------------------------------\u001b[0m",
      "\u001b[1;31mRecursionError\u001b[0m                            Traceback (most recent call last)",
      "Cell \u001b[1;32mIn[22], line 2\u001b[0m\n\u001b[0;32m      1\u001b[0m population \u001b[38;5;241m=\u001b[39m \u001b[38;5;124m\"\u001b[39m\u001b[38;5;124mI1,016,P2,K2,S1-I16,032,P2,K2,S1\u001b[39m\u001b[38;5;124m\"\u001b[39m\n\u001b[1;32m----> 2\u001b[0m neural_networks \u001b[38;5;241m=\u001b[39m \u001b[43mcreate_neural_networks\u001b[49m\u001b[43m(\u001b[49m\u001b[43mpopulation\u001b[49m\u001b[43m)\u001b[49m\n",
      "Cell \u001b[1;32mIn[20], line 15\u001b[0m, in \u001b[0;36mcreate_neural_networks\u001b[1;34m(population)\u001b[0m\n\u001b[0;32m     13\u001b[0m neural_networks \u001b[38;5;241m=\u001b[39m []\n\u001b[0;32m     14\u001b[0m \u001b[38;5;28;01mfor\u001b[39;00m network \u001b[38;5;129;01min\u001b[39;00m population\u001b[38;5;241m.\u001b[39msplit(\u001b[38;5;124m\"\u001b[39m\u001b[38;5;124m-\u001b[39m\u001b[38;5;124m\"\u001b[39m):\n\u001b[1;32m---> 15\u001b[0m   neural_networks\u001b[38;5;241m.\u001b[39mappend(\u001b[43mcreate_neural_networks\u001b[49m\u001b[43m(\u001b[49m\u001b[43mnetwork\u001b[49m\u001b[43m)\u001b[49m)\n\u001b[0;32m     17\u001b[0m \u001b[38;5;66;03m# Return the neural networks.\u001b[39;00m\n\u001b[0;32m     18\u001b[0m \u001b[38;5;28;01mreturn\u001b[39;00m neural_networks\n",
      "Cell \u001b[1;32mIn[20], line 15\u001b[0m, in \u001b[0;36mcreate_neural_networks\u001b[1;34m(population)\u001b[0m\n\u001b[0;32m     13\u001b[0m neural_networks \u001b[38;5;241m=\u001b[39m []\n\u001b[0;32m     14\u001b[0m \u001b[38;5;28;01mfor\u001b[39;00m network \u001b[38;5;129;01min\u001b[39;00m population\u001b[38;5;241m.\u001b[39msplit(\u001b[38;5;124m\"\u001b[39m\u001b[38;5;124m-\u001b[39m\u001b[38;5;124m\"\u001b[39m):\n\u001b[1;32m---> 15\u001b[0m   neural_networks\u001b[38;5;241m.\u001b[39mappend(\u001b[43mcreate_neural_networks\u001b[49m\u001b[43m(\u001b[49m\u001b[43mnetwork\u001b[49m\u001b[43m)\u001b[49m)\n\u001b[0;32m     17\u001b[0m \u001b[38;5;66;03m# Return the neural networks.\u001b[39;00m\n\u001b[0;32m     18\u001b[0m \u001b[38;5;28;01mreturn\u001b[39;00m neural_networks\n",
      "    \u001b[1;31m[... skipping similar frames: create_neural_networks at line 15 (2971 times)]\u001b[0m\n",
      "Cell \u001b[1;32mIn[20], line 15\u001b[0m, in \u001b[0;36mcreate_neural_networks\u001b[1;34m(population)\u001b[0m\n\u001b[0;32m     13\u001b[0m neural_networks \u001b[38;5;241m=\u001b[39m []\n\u001b[0;32m     14\u001b[0m \u001b[38;5;28;01mfor\u001b[39;00m network \u001b[38;5;129;01min\u001b[39;00m population\u001b[38;5;241m.\u001b[39msplit(\u001b[38;5;124m\"\u001b[39m\u001b[38;5;124m-\u001b[39m\u001b[38;5;124m\"\u001b[39m):\n\u001b[1;32m---> 15\u001b[0m   neural_networks\u001b[38;5;241m.\u001b[39mappend(\u001b[43mcreate_neural_networks\u001b[49m\u001b[43m(\u001b[49m\u001b[43mnetwork\u001b[49m\u001b[43m)\u001b[49m)\n\u001b[0;32m     17\u001b[0m \u001b[38;5;66;03m# Return the neural networks.\u001b[39;00m\n\u001b[0;32m     18\u001b[0m \u001b[38;5;28;01mreturn\u001b[39;00m neural_networks\n",
      "\u001b[1;31mRecursionError\u001b[0m: maximum recursion depth exceeded"
     ]
    }
   ],
   "source": [
    "population = \"I1,016,P2,K2,S1-I16,032,P2,K2,S1\"\n",
    "neural_networks = create_neural_networks(population)\n"
   ]
  },
  {
   "cell_type": "code",
   "execution_count": null,
   "id": "2c5d3c0d-a47d-4b7e-9a2d-9557b4a9e81d",
   "metadata": {},
   "outputs": [],
   "source": []
  }
 ],
 "metadata": {
  "kernelspec": {
   "display_name": "Python 3 (ipykernel)",
   "language": "python",
   "name": "python3"
  },
  "language_info": {
   "codemirror_mode": {
    "name": "ipython",
    "version": 3
   },
   "file_extension": ".py",
   "mimetype": "text/x-python",
   "name": "python",
   "nbconvert_exporter": "python",
   "pygments_lexer": "ipython3",
   "version": "3.11.4"
  }
 },
 "nbformat": 4,
 "nbformat_minor": 5
}
