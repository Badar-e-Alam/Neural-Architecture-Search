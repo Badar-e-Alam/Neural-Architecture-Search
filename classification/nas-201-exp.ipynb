{
 "cells": [
  {
   "cell_type": "code",
   "execution_count": 3,
   "id": "6117c9fe-8625-4858-b3c3-e37c38124655",
   "metadata": {},
   "outputs": [],
   "source": [
    "from nas_201_api import NASBench201API as API\n",
    "from nas_201_api import ArchResults\n",
    "import torch"
   ]
  },
  {
   "cell_type": "code",
   "execution_count": 7,
   "id": "5e2a6bdb",
   "metadata": {},
   "outputs": [],
   "source": [
    "x_data=torch.load(\"NAS-Bench-201-v1_0-e61699.pth\"  )"
   ]
  },
  {
   "cell_type": "code",
   "execution_count": 4,
   "id": "a534e444",
   "metadata": {},
   "outputs": [
    {
     "name": "stdout",
     "output_type": "stream",
     "text": [
      "try to create the NAS-Bench-201 api from NAS-Bench-201-v1_0-e61699.pth\n"
     ]
    }
   ],
   "source": [
    "api = API('NAS-Bench-201-v1_0-e61699.pth',verbose=True) # This will lToad all the information of NAS-Bench-201 except the trained weights"
   ]
  },
  {
   "cell_type": "code",
   "execution_count": 31,
   "id": "069ef583",
   "metadata": {},
   "outputs": [
    {
     "name": "stdout",
     "output_type": "stream",
     "text": [
      ">>>>>>>>>>>>>>>>>>>>>>>>>>>>>>>>>>>>>>>> 012 epochs >>>>>>>>>>>>>>>>>>>>>>>>>>>>>>>>>>>>>>>>\n",
      "|nor_conv_3x3~0|+|nor_conv_3x3~0|avg_pool_3x3~1|+|skip_connect~0|nor_conv_3x3~1|skip_connect~2|\n",
      "datasets : ['cifar10-valid'], extra-info : None\n",
      "cifar10-valid  FLOP=113.95 M, Params=0.802 MB, latency=None ms.\n",
      "cifar10-valid  train : [loss = 0.406, top1 = 86.10%], valid : [loss = 0.539, top1 = 81.79%]\n",
      ">>>>>>>>>>>>>>>>>>>>>>>>>>>>>>>>>>>>>>>> 200 epochs >>>>>>>>>>>>>>>>>>>>>>>>>>>>>>>>>>>>>>>>\n",
      "|nor_conv_3x3~0|+|nor_conv_3x3~0|avg_pool_3x3~1|+|skip_connect~0|nor_conv_3x3~1|skip_connect~2|\n",
      "datasets : ['cifar10-valid', 'cifar10', 'cifar100', 'ImageNet16-120'], extra-info : None\n",
      "cifar10-valid  FLOP=113.95 M, Params=0.802 MB, latency=16.75 ms.\n",
      "cifar10-valid  train : [loss = 0.002, top1 = 99.99%], valid : [loss = 0.439, top1 = 90.77%]\n",
      "cifar10        FLOP=113.95 M, Params=0.802 MB, latency=16.95 ms.\n",
      "cifar10        train : [loss = 0.002, top1 = 99.97%], test  : [loss = 0.300, top1 = 93.66%]\n",
      "cifar100       FLOP=113.96 M, Params=0.808 MB, latency=15.36 ms.\n",
      "cifar100       train : [loss = 0.048, top1 = 99.44%], valid : [loss = 1.373, top1 = 69.83%], test : [loss = 1.351, top1 = 70.29%]\n",
      "ImageNet16-120 FLOP= 28.50 M, Params=0.810 MB, latency=13.77 ms.\n",
      "ImageNet16-120 train : [loss = 1.459, top1 = 60.34%], valid : [loss = 2.230, top1 = 44.49%], test : [loss = 2.266, top1 = 44.03%]\n",
      "<<<<<<<<<<<<<<<<<<<<<<<<<<<<<<<<<<<<<<<<------------<<<<<<<<<<<<<<<<<<<<<<<<<<<<<<<<<<<<<<<<\n"
     ]
    }
   ],
   "source": [
    "api.show(1)"
   ]
  },
  {
   "cell_type": "code",
   "execution_count": 38,
   "id": "8912ffc4",
   "metadata": {},
   "outputs": [
    {
     "ename": "KeyError",
     "evalue": "'cifar10'",
     "output_type": "error",
     "traceback": [
      "\u001b[1;31m---------------------------------------------------------------------------\u001b[0m",
      "\u001b[1;31mKeyError\u001b[0m                                  Traceback (most recent call last)",
      "Cell \u001b[1;32mIn[38], line 1\u001b[0m\n\u001b[1;32m----> 1\u001b[0m res_metrics \u001b[38;5;241m=\u001b[39m \u001b[43minfo\u001b[49m\u001b[38;5;241;43m.\u001b[39;49m\u001b[43mget_metrics\u001b[49m\u001b[43m(\u001b[49m\u001b[38;5;124;43m'\u001b[39;49m\u001b[38;5;124;43mcifar10\u001b[39;49m\u001b[38;5;124;43m'\u001b[39;49m\u001b[43m,\u001b[49m\u001b[43m \u001b[49m\u001b[38;5;124;43m'\u001b[39;49m\u001b[38;5;124;43mtrain\u001b[39;49m\u001b[38;5;124;43m'\u001b[39;49m\u001b[43m)\u001b[49m \u001b[38;5;66;03m# This is a dict with metric names as keys\u001b[39;00m\n\u001b[0;32m      2\u001b[0m cost_metrics \u001b[38;5;241m=\u001b[39m info\u001b[38;5;241m.\u001b[39mget_comput_costs(\u001b[38;5;124m'\u001b[39m\u001b[38;5;124mcifar100\u001b[39m\u001b[38;5;124m'\u001b[39m) \u001b[38;5;66;03m# T\u001b[39;00m\n",
      "File \u001b[1;32mc:\\Users\\badar\\anaconda3\\envs\\pytorch\\Lib\\site-packages\\nas_201_api\\api_utils.py:393\u001b[0m, in \u001b[0;36mArchResults.get_metrics\u001b[1;34m(self, dataset, setname, iepoch, is_random)\u001b[0m\n\u001b[0;32m    361\u001b[0m \u001b[38;5;28;01mdef\u001b[39;00m \u001b[38;5;21mget_metrics\u001b[39m(\u001b[38;5;28mself\u001b[39m, dataset, setname, iepoch\u001b[38;5;241m=\u001b[39m\u001b[38;5;28;01mNone\u001b[39;00m, is_random\u001b[38;5;241m=\u001b[39m\u001b[38;5;28;01mFalse\u001b[39;00m):\n\u001b[0;32m    362\u001b[0m \u001b[38;5;250m  \u001b[39m\u001b[38;5;124;03m\"\"\"\u001b[39;00m\n\u001b[0;32m    363\u001b[0m \u001b[38;5;124;03m    This `get_metrics` function is used to obtain obtain the loss, accuracy, etc information on a specific dataset.\u001b[39;00m\n\u001b[0;32m    364\u001b[0m \u001b[38;5;124;03m    If not specify, each set refer to the proposed split in NAS-Bench-201 paper.\u001b[39;00m\n\u001b[1;32m   (...)\u001b[0m\n\u001b[0;32m    391\u001b[0m \u001b[38;5;124;03m      ------ an integer indicating the 'seed' value : return the metric of a specific trial (whose random seed is 'is_random').\u001b[39;00m\n\u001b[0;32m    392\u001b[0m \u001b[38;5;124;03m  \"\"\"\u001b[39;00m\n\u001b[1;32m--> 393\u001b[0m   x_seeds \u001b[38;5;241m=\u001b[39m \u001b[38;5;28;43mself\u001b[39;49m\u001b[38;5;241;43m.\u001b[39;49m\u001b[43mdataset_seed\u001b[49m\u001b[43m[\u001b[49m\u001b[43mdataset\u001b[49m\u001b[43m]\u001b[49m\n\u001b[0;32m    394\u001b[0m   results \u001b[38;5;241m=\u001b[39m [\u001b[38;5;28mself\u001b[39m\u001b[38;5;241m.\u001b[39mall_results[ (dataset, seed) ] \u001b[38;5;28;01mfor\u001b[39;00m seed \u001b[38;5;129;01min\u001b[39;00m x_seeds]\n\u001b[0;32m    395\u001b[0m   infos   \u001b[38;5;241m=\u001b[39m defaultdict(\u001b[38;5;28mlist\u001b[39m)\n",
      "\u001b[1;31mKeyError\u001b[0m: 'cifar10'"
     ]
    }
   ],
   "source": [
    "res_metrics = info.get_metrics('cifar10', 'train') # This is a dict with metric names as keys\n",
    "cost_metrics = info.get_comput_costs('cifar100') # T"
   ]
  },
  {
   "cell_type": "code",
   "execution_count": 37,
   "id": "86316d96",
   "metadata": {},
   "outputs": [
    {
     "name": "stdout",
     "output_type": "stream",
     "text": [
      ">>>>>>>>>>>>>>>>>>>>>>>>>>>>>>>>>>>>>>>> 012 epochs >>>>>>>>>>>>>>>>>>>>>>>>>>>>>>>>>>>>>>>>\n",
      "|avg_pool_3x3~0|+|nor_conv_3x3~0|nor_conv_3x3~1|+|avg_pool_3x3~0|avg_pool_3x3~1|avg_pool_3x3~2|\n",
      "datasets : ['cifar10-valid'], extra-info : None\n",
      "cifar10-valid  FLOP= 78.56 M, Params=0.559 MB, latency=None ms.\n",
      "cifar10-valid  train : [loss = 0.976, top1 = 64.50%], valid : [loss = 1.038, top1 = 62.92%]\n",
      ">>>>>>>>>>>>>>>>>>>>>>>>>>>>>>>>>>>>>>>> 200 epochs >>>>>>>>>>>>>>>>>>>>>>>>>>>>>>>>>>>>>>>>\n",
      "|avg_pool_3x3~0|+|nor_conv_3x3~0|nor_conv_3x3~1|+|avg_pool_3x3~0|avg_pool_3x3~1|avg_pool_3x3~2|\n",
      "datasets : ['cifar10-valid', 'cifar10', 'cifar100', 'ImageNet16-120'], extra-info : None\n",
      "cifar10-valid  FLOP= 78.56 M, Params=0.559 MB, latency=14.35 ms.\n",
      "cifar10-valid  train : [loss = 0.308, top1 = 89.31%], valid : [loss = 0.566, top1 = 81.91%]\n",
      "cifar10        FLOP= 78.56 M, Params=0.559 MB, latency=14.51 ms.\n",
      "cifar10        train : [loss = 0.279, top1 = 90.38%], test  : [loss = 0.430, top1 = 85.74%]\n",
      "cifar100       FLOP= 78.57 M, Params=0.565 MB, latency=14.03 ms.\n",
      "cifar100       train : [loss = 1.432, top1 = 59.74%], valid : [loss = 1.702, top1 = 54.30%], test : [loss = 1.676, top1 = 54.87%]\n",
      "ImageNet16-120 FLOP= 19.65 M, Params=0.567 MB, latency=12.76 ms.\n",
      "ImageNet16-120 train : [loss = 2.974, top1 = 27.22%], valid : [loss = 2.973, top1 = 27.63%], test : [loss = 3.016, top1 = 27.26%]\n",
      "<<<<<<<<<<<<<<<<<<<<<<<<<<<<<<<<<<<<<<<<------------<<<<<<<<<<<<<<<<<<<<<<<<<<<<<<<<<<<<<<<<\n"
     ]
    }
   ],
   "source": [
    "api.show(2)"
   ]
  },
  {
   "cell_type": "code",
   "execution_count": 35,
   "id": "4ee28517",
   "metadata": {},
   "outputs": [
    {
     "name": "stdout",
     "output_type": "stream",
     "text": [
      "Call query_meta_info_by_index with arch_index=100, hp=12\n",
      "['cifar10-valid']\n"
     ]
    }
   ],
   "source": [
    "info=api.query_meta_info_by_index(100)\n",
    "dataset_names = info.get_dataset_names()\n",
    "print(dataset_names)"
   ]
  },
  {
   "cell_type": "code",
   "execution_count": 11,
   "id": "92ac642c",
   "metadata": {},
   "outputs": [
    {
     "data": {
      "text/plain": [
       "dict_keys(['meta_archs', 'total_archs', 'arch2infos', 'evaluated_indexes'])"
      ]
     },
     "execution_count": 11,
     "metadata": {},
     "output_type": "execute_result"
    }
   ],
   "source": [
    "x_data.keys()"
   ]
  },
  {
   "cell_type": "code",
   "execution_count": 26,
   "id": "520f7f53",
   "metadata": {},
   "outputs": [
    {
     "ename": "KeyError",
     "evalue": "'full'",
     "output_type": "error",
     "traceback": [
      "\u001b[1;31m---------------------------------------------------------------------------\u001b[0m",
      "\u001b[1;31mKeyError\u001b[0m                                  Traceback (most recent call last)",
      "Cell \u001b[1;32mIn[26], line 1\u001b[0m\n\u001b[1;32m----> 1\u001b[0m odata  \u001b[38;5;241m=\u001b[39m \u001b[43mx_data\u001b[49m\u001b[43m[\u001b[49m\u001b[38;5;124;43m'\u001b[39;49m\u001b[38;5;124;43mfull\u001b[39;49m\u001b[38;5;124;43m'\u001b[39;49m\u001b[43m]\u001b[49m[\u001b[38;5;124m'\u001b[39m\u001b[38;5;124mall_results\u001b[39m\u001b[38;5;124m'\u001b[39m][(\u001b[38;5;124m'\u001b[39m\u001b[38;5;124mcifar10-valid\u001b[39m\u001b[38;5;124m'\u001b[39m, \u001b[38;5;241m777\u001b[39m)]\n",
      "\u001b[1;31mKeyError\u001b[0m: 'full'"
     ]
    }
   ],
   "source": []
  },
  {
   "cell_type": "code",
   "execution_count": 29,
   "id": "7ec85e0d",
   "metadata": {},
   "outputs": [
    {
     "data": {
      "text/plain": [
       "dict_keys([('cifar10-valid', 888), ('cifar10', 888), ('cifar100', 888), ('ImageNet16-120', 888), ('cifar10-valid', 999), ('cifar10', 999), ('cifar100', 999), ('ImageNet16-120', 999), ('cifar10-valid', 777), ('cifar10', 777), ('cifar100', 777), ('ImageNet16-120', 777)])"
      ]
     },
     "execution_count": 29,
     "metadata": {},
     "output_type": "execute_result"
    }
   ],
   "source": [
    "(x_data[\"arch2infos\"])[10][\"full\"][\"all_results\"].keys()"
   ]
  },
  {
   "cell_type": "code",
   "execution_count": 43,
   "id": "dd60640c",
   "metadata": {},
   "outputs": [
    {
     "data": {
      "text/plain": [
       "dict_keys(['meta_archs', 'total_archs', 'arch2infos', 'evaluated_indexes'])"
      ]
     },
     "execution_count": 43,
     "metadata": {},
     "output_type": "execute_result"
    }
   ],
   "source": [
    "x_data.keys()"
   ]
  },
  {
   "cell_type": "code",
   "execution_count": 45,
   "id": "6210b071-1182-4b20-9996-6bc4426c0607",
   "metadata": {},
   "outputs": [
    {
     "data": {
      "text/plain": [
       "'|avg_pool_3x3~0|+|nor_conv_1x1~0|skip_connect~1|+|nor_conv_1x1~0|skip_connect~1|skip_connect~2|'"
      ]
     },
     "execution_count": 45,
     "metadata": {},
     "output_type": "execute_result"
    }
   ],
   "source": [
    "x_data[\"meta_archs\"][0]"
   ]
  },
  {
   "cell_type": "code",
   "execution_count": 47,
   "id": "822a1242",
   "metadata": {},
   "outputs": [
    {
     "data": {
      "text/plain": [
       "'|skip_connect~0|+|avg_pool_3x3~0|skip_connect~1|+|skip_connect~0|none~1|avg_pool_3x3~2|'"
      ]
     },
     "execution_count": 47,
     "metadata": {},
     "output_type": "execute_result"
    }
   ],
   "source": [
    "x_data[\"meta_archs\"][15]"
   ]
  },
  {
   "cell_type": "code",
   "execution_count": 5,
   "id": "0d0656ea",
   "metadata": {},
   "outputs": [
    {
     "name": "stdout",
     "output_type": "stream",
     "text": [
      "Call the get_net_config function with index=128, dataset=cifar10-valid.\n",
      "> \u001b[1;32mc:\\users\\badar\\anaconda3\\envs\\pytorch\\lib\\site-packages\\nas_201_api\\api_utils.py\u001b[0m(498)\u001b[0;36mquery\u001b[1;34m()\u001b[0m\n",
      "\u001b[1;32m    496 \u001b[1;33m\u001b[1;33m\u001b[0m\u001b[0m\n",
      "\u001b[0m\u001b[1;32m    497 \u001b[1;33m      \u001b[1;32mimport\u001b[0m \u001b[0mpdb\u001b[0m\u001b[1;33m;\u001b[0m \u001b[0mpdb\u001b[0m\u001b[1;33m.\u001b[0m\u001b[0mset_trace\u001b[0m\u001b[1;33m(\u001b[0m\u001b[1;33m)\u001b[0m\u001b[1;33m\u001b[0m\u001b[1;33m\u001b[0m\u001b[0m\n",
      "\u001b[0m\u001b[1;32m--> 498 \u001b[1;33m      \u001b[0mx_seeds\u001b[0m \u001b[1;33m=\u001b[0m \u001b[0mself\u001b[0m\u001b[1;33m.\u001b[0m\u001b[0mdataset_seed\u001b[0m\u001b[1;33m[\u001b[0m\u001b[0mdataset\u001b[0m\u001b[1;33m]\u001b[0m\u001b[1;33m\u001b[0m\u001b[1;33m\u001b[0m\u001b[0m\n",
      "\u001b[0m\u001b[1;32m    499 \u001b[1;33m      \u001b[1;32mreturn\u001b[0m \u001b[1;33m{\u001b[0m\u001b[0mseed\u001b[0m\u001b[1;33m:\u001b[0m \u001b[0mself\u001b[0m\u001b[1;33m.\u001b[0m\u001b[0mall_results\u001b[0m\u001b[1;33m[\u001b[0m\u001b[1;33m(\u001b[0m\u001b[0mdataset\u001b[0m\u001b[1;33m,\u001b[0m \u001b[0mseed\u001b[0m\u001b[1;33m)\u001b[0m\u001b[1;33m]\u001b[0m \u001b[1;32mfor\u001b[0m \u001b[0mseed\u001b[0m \u001b[1;32min\u001b[0m \u001b[0mx_seeds\u001b[0m\u001b[1;33m}\u001b[0m\u001b[1;33m\u001b[0m\u001b[1;33m\u001b[0m\u001b[0m\n",
      "\u001b[0m\u001b[1;32m    500 \u001b[1;33m    \u001b[1;32melse\u001b[0m\u001b[1;33m:\u001b[0m\u001b[1;33m\u001b[0m\u001b[1;33m\u001b[0m\u001b[0m\n",
      "\u001b[0m\n"
     ]
    }
   ],
   "source": [
    "config  = api.get_net_config(128, 'cifar10-valid')#\n"
   ]
  },
  {
   "cell_type": "code",
   "execution_count": 1,
   "id": "b8051476",
   "metadata": {},
   "outputs": [
    {
     "ename": "NameError",
     "evalue": "name 'x_data' is not defined",
     "output_type": "error",
     "traceback": [
      "\u001b[1;31m---------------------------------------------------------------------------\u001b[0m",
      "\u001b[1;31mNameError\u001b[0m                                 Traceback (most recent call last)",
      "Cell \u001b[1;32mIn[1], line 4\u001b[0m\n\u001b[0;32m      2\u001b[0m sys\u001b[38;5;241m.\u001b[39mpath\u001b[38;5;241m.\u001b[39mappend(\u001b[38;5;124m\"\u001b[39m\u001b[38;5;124m..\u001b[39m\u001b[38;5;124m\"\u001b[39m)  \u001b[38;5;66;03m# Add parent folder to the sys.path\u001b[39;00m\n\u001b[0;32m      3\u001b[0m \u001b[38;5;28;01mfrom\u001b[39;00m \u001b[38;5;21;01mhw_nas_bench_api\u001b[39;00m\u001b[38;5;21;01m.\u001b[39;00m\u001b[38;5;21;01mnas_201_models\u001b[39;00m \u001b[38;5;28;01mimport\u001b[39;00m get_cell_based_tiny_net\n\u001b[1;32m----> 4\u001b[0m get_cell_based_tiny_net(\u001b[43mx_data\u001b[49m[\u001b[38;5;124m\"\u001b[39m\u001b[38;5;124mmeta_archs\u001b[39m\u001b[38;5;124m\"\u001b[39m][\u001b[38;5;241m15\u001b[39m])\n",
      "\u001b[1;31mNameError\u001b[0m: name 'x_data' is not defined"
     ]
    }
   ],
   "source": [
    "import sys\n",
    "sys.path.append(\"..\")  # Add parent folder to the sys.path\n",
    "from hw_nas_bench_api.nas_201_models import get_cell_based_tiny_net\n",
    "get_cell_based_tiny_net(x_data[\"meta_archs\"][15])"
   ]
  },
  {
   "cell_type": "code",
   "execution_count": null,
   "id": "e81176ce",
   "metadata": {},
   "outputs": [],
   "source": []
  }
 ],
 "metadata": {
  "kernelspec": {
   "display_name": "Python 3 (ipykernel)",
   "language": "python",
   "name": "python3"
  },
  "language_info": {
   "codemirror_mode": {
    "name": "ipython",
    "version": 3
   },
   "file_extension": ".py",
   "mimetype": "text/x-python",
   "name": "python",
   "nbconvert_exporter": "python",
   "pygments_lexer": "ipython3",
   "version": "3.11.5"
  }
 },
 "nbformat": 4,
 "nbformat_minor": 5
}
